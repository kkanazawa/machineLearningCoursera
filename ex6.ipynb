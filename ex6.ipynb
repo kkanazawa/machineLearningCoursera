{
 "metadata": {
  "name": "",
  "signature": "sha256:6695db43ade09d8639834ba12abdc5bf6b8ea60684ce6bd939c8fbcfc5217652"
 },
 "nbformat": 3,
 "nbformat_minor": 0,
 "worksheets": [
  {
   "cells": [
    {
     "cell_type": "code",
     "collapsed": false,
     "input": [
      "ls"
     ],
     "language": "python",
     "metadata": {},
     "outputs": [
      {
       "output_type": "stream",
       "stream": "stdout",
       "text": [
        "C_gam.ipynb         contour.ipynb       \u001b[34mmlclass-ex6\u001b[m\u001b[m/\r\n",
        "SVR.ipynb           ex6.ipynb           oneclassSVM.ipynb\r\n",
        "Untitled0.ipynb     ex6.pdf             scatter_size.ipynb\r\n"
       ]
      }
     ],
     "prompt_number": 1
    },
    {
     "cell_type": "code",
     "collapsed": false,
     "input": [
      "cd mlclass-ex6/"
     ],
     "language": "python",
     "metadata": {},
     "outputs": [
      {
       "output_type": "stream",
       "stream": "stdout",
       "text": [
        "/Users/kanazawa/Dropbox/andrew/mlclass-ex6-007/mlclass-ex6\n"
       ]
      }
     ],
     "prompt_number": 2
    },
    {
     "cell_type": "code",
     "collapsed": false,
     "input": [
      "ls"
     ],
     "language": "python",
     "metadata": {},
     "outputs": [
      {
       "output_type": "stream",
       "stream": "stdout",
       "text": [
        "dataset3Params.m           processEmail.m\r\n",
        "emailFeatures.m            readFile.m\r\n",
        "emailSample1.txt           spamSample1.txt\r\n",
        "emailSample2.txt           spamSample2.txt\r\n",
        "ex6.m                      spamTest.mat\r\n",
        "ex6_spam.m                 spamTrain.mat\r\n",
        "ex6data1.mat               submit.m\r\n",
        "ex6data2.mat               submitWeb.m\r\n",
        "ex6data3.mat               svmPredict.m\r\n",
        "gaussianKernel.m           svmTrain.m\r\n",
        "getVocabList.m             visualizeBoundary.m\r\n",
        "linearKernel.m             visualizeBoundaryLinear.m\r\n",
        "plotData.m                 vocab.txt\r\n",
        "porterStemmer.m\r\n"
       ]
      }
     ],
     "prompt_number": 3
    },
    {
     "cell_type": "code",
     "collapsed": false,
     "input": [
      "from scipy.io import loadmat"
     ],
     "language": "python",
     "metadata": {},
     "outputs": [],
     "prompt_number": 4
    },
    {
     "cell_type": "code",
     "collapsed": false,
     "input": [
      "data1 = loadmat('ex6data1.mat')"
     ],
     "language": "python",
     "metadata": {},
     "outputs": [],
     "prompt_number": 5
    },
    {
     "cell_type": "code",
     "collapsed": false,
     "input": [
      "data1.keys()"
     ],
     "language": "python",
     "metadata": {},
     "outputs": [
      {
       "metadata": {},
       "output_type": "pyout",
       "prompt_number": 6,
       "text": [
        "['y', 'X', '__version__', '__header__', '__globals__']"
       ]
      }
     ],
     "prompt_number": 6
    },
    {
     "cell_type": "code",
     "collapsed": false,
     "input": [
      "y = data1['y']\n",
      "X = data1['X']"
     ],
     "language": "python",
     "metadata": {},
     "outputs": [],
     "prompt_number": 7
    },
    {
     "cell_type": "code",
     "collapsed": false,
     "input": [
      "m,n = X.shape\n",
      "y.shape = (m,)"
     ],
     "language": "python",
     "metadata": {},
     "outputs": [],
     "prompt_number": 8
    },
    {
     "cell_type": "code",
     "collapsed": false,
     "input": [
      "# index of positive and negative examples\n",
      "pos = (y == 1).nonzero()[0]\n",
      "neg = (y == 0).nonzero()[0]"
     ],
     "language": "python",
     "metadata": {},
     "outputs": [],
     "prompt_number": 9
    },
    {
     "cell_type": "code",
     "collapsed": false,
     "input": [
      "scatter(X[pos,0],X[pos,1],color='b',marker='o')\n",
      "scatter(X[neg,0],X[neg,1],color='r',marker='x')\n",
      "legend(['pos','neg'])\n",
      "xlabel('x1')\n",
      "ylabel('x2')\n",
      "axis([-0.5,4.5,1,5.5])"
     ],
     "language": "python",
     "metadata": {},
     "outputs": [
      {
       "metadata": {},
       "output_type": "pyout",
       "prompt_number": 10,
       "text": [
        "[-0.5, 4.5, 1, 5.5]"
       ]
      },
      {
       "metadata": {},
       "output_type": "display_data",
       "png": "[encoded data removed]",
       "text": [
        "<matplotlib.figure.Figure at 0x1069f1550>"
       ]
      }
     ],
     "prompt_number": 10
    },
    {
     "cell_type": "code",
     "collapsed": false,
     "input": [
      "from sklearn.svm import SVR"
     ],
     "language": "python",
     "metadata": {},
     "outputs": [],
     "prompt_number": 11
    },
    {
     "cell_type": "code",
     "collapsed": false,
     "input": [
      "clf1 = SVR(C=1.0, kernel='linear',max_iter=000)\n",
      "clf100 = SVR(C=100.0, kernel='linear',max_iter=4000)\n",
      "clf1.fit(X,y)\n",
      "clf100.fit(X,y)"
     ],
     "language": "python",
     "metadata": {},
     "outputs": [
      {
       "output_type": "stream",
       "stream": "stderr",
       "text": [
        "/Library/Python/2.7/site-packages/sklearn/svm/base.py:204: ConvergenceWarning: Solver terminated early (max_iter=0).  Consider pre-processing your data with StandardScaler or MinMaxScaler.\n",
        "  % self.max_iter, ConvergenceWarning)\n",
        "/Library/Python/2.7/site-packages/sklearn/svm/base.py:204: ConvergenceWarning: Solver terminated early (max_iter=4000).  Consider pre-processing your data with StandardScaler or MinMaxScaler.\n",
        "  % self.max_iter, ConvergenceWarning)\n"
       ]
      },
      {
       "metadata": {},
       "output_type": "pyout",
       "prompt_number": 12,
       "text": [
        "SVR(C=100.0, cache_size=200, coef0=0.0, degree=3, epsilon=0.1, gamma=0.0,\n",
        "  kernel='linear', max_iter=4000, probability=False, random_state=None,\n",
        "  shrinking=True, tol=0.001, verbose=False)"
       ]
      }
     ],
     "prompt_number": 12
    },
    {
     "cell_type": "code",
     "collapsed": false,
     "input": [
      "clf1.score(X,y), clf100.score(X,y)"
     ],
     "language": "python",
     "metadata": {},
     "outputs": [
      {
       "metadata": {},
       "output_type": "pyout",
       "prompt_number": 13,
       "text": [
        "(-0.032142857142857251, 0.66900689661374324)"
       ]
      }
     ],
     "prompt_number": 13
    },
    {
     "cell_type": "markdown",
     "metadata": {},
     "source": [
      "# decision boundary"
     ]
    },
    {
     "cell_type": "code",
     "collapsed": false,
     "input": [
      "u = arange(-0.5,4.5,0.1)\n",
      "v = arange(1.0,5.5,0.1)\n",
      "u.shape, v.shape"
     ],
     "language": "python",
     "metadata": {},
     "outputs": [
      {
       "metadata": {},
       "output_type": "pyout",
       "prompt_number": 15,
       "text": [
        "((50,), (45,))"
       ]
      }
     ],
     "prompt_number": 15
    },
    {
     "cell_type": "code",
     "collapsed": false,
     "input": [
      "uu,vv = meshgrid(u,v)"
     ],
     "language": "python",
     "metadata": {},
     "outputs": [],
     "prompt_number": 16
    },
    {
     "cell_type": "code",
     "collapsed": false,
     "input": [
      "X_plt = vstack((uu.flatten(),vv.flatten())).T"
     ],
     "language": "python",
     "metadata": {},
     "outputs": [],
     "prompt_number": 17
    },
    {
     "cell_type": "code",
     "collapsed": false,
     "input": [
      "X_plt.shape"
     ],
     "language": "python",
     "metadata": {},
     "outputs": [
      {
       "metadata": {},
       "output_type": "pyout",
       "prompt_number": 18,
       "text": [
        "(2250, 2)"
       ]
      }
     ],
     "prompt_number": 18
    },
    {
     "cell_type": "code",
     "collapsed": false,
     "input": [
      "y_plt1 = clf1.predict(X_plt)\n",
      "y_plt100 = clf100.predict(X_plt)\n",
      "\n",
      "y_plt1.shape = (45,50)\n",
      "y_plt100.shape = (45,50)"
     ],
     "language": "python",
     "metadata": {},
     "outputs": [],
     "prompt_number": 19
    },
    {
     "cell_type": "code",
     "collapsed": false,
     "input": [
      "scatter(X[pos,0],X[pos,1],color='b',marker='o')\n",
      "scatter(X[neg,0],X[neg,1],color='r',marker='x')\n",
      "xlabel('x1')\n",
      "ylabel('x2')\n",
      "axis([-0.5,4.5,1,5.5])\n",
      "\n",
      "contour(u,v,y_plt1,[0.5],colors='r')\n",
      "contour(u,v,y_plt100,[0.5],colors='b')\n",
      "legend(['pos','neg'])"
     ],
     "language": "python",
     "metadata": {},
     "outputs": [
      {
       "metadata": {},
       "output_type": "pyout",
       "prompt_number": 20,
       "text": [
        "<matplotlib.legend.Legend at 0x106a327d0>"
       ]
      },
      {
       "metadata": {},
       "output_type": "display_data",
       "png": "[encoded data removed]",
       "text": [
        "<matplotlib.figure.Figure at 0x106a37d90>"
       ]
      }
     ],
     "prompt_number": 20
    },
    {
     "cell_type": "markdown",
     "metadata": {},
     "source": [
      "# SVM with Gaussian Kernel"
     ]
    },
    {
     "cell_type": "code",
     "collapsed": false,
     "input": [
      "ls"
     ],
     "language": "python",
     "metadata": {},
     "outputs": [
      {
       "output_type": "stream",
       "stream": "stdout",
       "text": [
        "dataset3Params.m           processEmail.m\r\n",
        "emailFeatures.m            readFile.m\r\n",
        "emailSample1.txt           spamSample1.txt\r\n",
        "emailSample2.txt           spamSample2.txt\r\n",
        "ex6.m                      spamTest.mat\r\n",
        "ex6_spam.m                 spamTrain.mat\r\n",
        "ex6data1.mat               submit.m\r\n",
        "ex6data2.mat               submitWeb.m\r\n",
        "ex6data3.mat               svmPredict.m\r\n",
        "gaussianKernel.m           svmTrain.m\r\n",
        "getVocabList.m             visualizeBoundary.m\r\n",
        "linearKernel.m             visualizeBoundaryLinear.m\r\n",
        "plotData.m                 vocab.txt\r\n",
        "porterStemmer.m\r\n"
       ]
      }
     ],
     "prompt_number": 21
    },
    {
     "cell_type": "code",
     "collapsed": false,
     "input": [
      "data2 = loadmat('ex6data2.mat')"
     ],
     "language": "python",
     "metadata": {},
     "outputs": [],
     "prompt_number": 22
    },
    {
     "cell_type": "code",
     "collapsed": false,
     "input": [
      "y2 = data2['y']\n",
      "X2 = data2['X']\n",
      "m2,n2 = X2.shape\n",
      "y2.shape = (m2,)"
     ],
     "language": "python",
     "metadata": {},
     "outputs": [],
     "prompt_number": 23
    },
    {
     "cell_type": "code",
     "collapsed": false,
     "input": [
      "pos2 = (y2 == 1).nonzero()[0]\n",
      "neg2 = (y2 == 0).nonzero()[0]"
     ],
     "language": "python",
     "metadata": {},
     "outputs": [],
     "prompt_number": 24
    },
    {
     "cell_type": "code",
     "collapsed": false,
     "input": [
      "pos2.shape, neg2.shape, y2.shape"
     ],
     "language": "python",
     "metadata": {},
     "outputs": [
      {
       "metadata": {},
       "output_type": "pyout",
       "prompt_number": 25,
       "text": [
        "((480,), (383,), (863,))"
       ]
      }
     ],
     "prompt_number": 25
    },
    {
     "cell_type": "code",
     "collapsed": false,
     "input": [
      "scatter(X2[pos2,0],X2[pos2,1],y2,color='b',marker='o')\n",
      "scatter(X2[neg2,0],X2[neg2,1],y2,color='r',marker='x')\n",
      "axis([0,1,0.4,1])\n"
     ],
     "language": "python",
     "metadata": {},
     "outputs": [
      {
       "metadata": {},
       "output_type": "pyout",
       "prompt_number": 26,
       "text": [
        "[0, 1, 0.4, 1]"
       ]
      },
      {
       "metadata": {},
       "output_type": "display_data",
       "png": "[encoded data removed]",
       "text": [
        "<matplotlib.figure.Figure at 0x106a34550>"
       ]
      }
     ],
     "prompt_number": 26
    },
    {
     "cell_type": "code",
     "collapsed": false,
     "input": [
      "clf2 = SVR(C=10.0, kernel='rbf', max_iter=4000, tol=0.001, epsilon=0.1, gamma=50.)\n",
      "clf2.fit(X2,y2)"
     ],
     "language": "python",
     "metadata": {},
     "outputs": [
      {
       "metadata": {},
       "output_type": "pyout",
       "prompt_number": 27,
       "text": [
        "SVR(C=10.0, cache_size=200, coef0=0.0, degree=3, epsilon=0.1, gamma=50.0,\n",
        "  kernel='rbf', max_iter=4000, probability=False, random_state=None,\n",
        "  shrinking=True, tol=0.001, verbose=False)"
       ]
      }
     ],
     "prompt_number": 27
    },
    {
     "cell_type": "code",
     "collapsed": false,
     "input": [
      "clf2.score(X2,y2)"
     ],
     "language": "python",
     "metadata": {},
     "outputs": [
      {
       "metadata": {},
       "output_type": "pyout",
       "prompt_number": 28,
       "text": [
        "0.93392977126625798"
       ]
      }
     ],
     "prompt_number": 28
    },
    {
     "cell_type": "code",
     "collapsed": false,
     "input": [
      "u = arange(0,1,0.01)\n",
      "v = arange(0.4,1.0,0.01)"
     ],
     "language": "python",
     "metadata": {},
     "outputs": [],
     "prompt_number": 29
    },
    {
     "cell_type": "code",
     "collapsed": false,
     "input": [
      "uu,vv = meshgrid(u,v)"
     ],
     "language": "python",
     "metadata": {},
     "outputs": [],
     "prompt_number": 30
    },
    {
     "cell_type": "code",
     "collapsed": false,
     "input": [
      "X2_plt = vstack((uu.flatten(),vv.flatten())).T"
     ],
     "language": "python",
     "metadata": {},
     "outputs": [],
     "prompt_number": 31
    },
    {
     "cell_type": "code",
     "collapsed": false,
     "input": [
      "y2_plt = clf2.predict(X2_plt)"
     ],
     "language": "python",
     "metadata": {},
     "outputs": [],
     "prompt_number": 32
    },
    {
     "cell_type": "code",
     "collapsed": false,
     "input": [
      "y2_plt.shape = (60,100)"
     ],
     "language": "python",
     "metadata": {},
     "outputs": [],
     "prompt_number": 33
    },
    {
     "cell_type": "code",
     "collapsed": false,
     "input": [
      "z2 = clf2.decision_function(X2_plt)\n",
      "z2.shape = (60,100)"
     ],
     "language": "python",
     "metadata": {},
     "outputs": [],
     "prompt_number": 34
    },
    {
     "cell_type": "code",
     "collapsed": false,
     "input": [
      "u.shape, v.shape, z2.shape"
     ],
     "language": "python",
     "metadata": {},
     "outputs": [
      {
       "metadata": {},
       "output_type": "pyout",
       "prompt_number": 35,
       "text": [
        "((100,), (60,), (60, 100))"
       ]
      }
     ],
     "prompt_number": 35
    },
    {
     "cell_type": "code",
     "collapsed": false,
     "input": [
      "scatter(X2[pos2,0],X2[pos2,1],y2,color='b',marker='o')\n",
      "scatter(X2[neg2,0],X2[neg2,1],y2,color='r',marker='x')\n",
      "axis([0,1,0.4,1])\n",
      "\n",
      "#contour(u,v,y2_plt,[0.5])\n",
      "contour(u,v,z2,[0.5])"
     ],
     "language": "python",
     "metadata": {},
     "outputs": [
      {
       "metadata": {},
       "output_type": "pyout",
       "prompt_number": 36,
       "text": [
        "<matplotlib.contour.QuadContourSet instance at 0x107a35ea8>"
       ]
      },
      {
       "metadata": {},
       "output_type": "display_data",
       "png": "[encoded data removed]",
       "text": [
        "<matplotlib.figure.Figure at 0x107954510>"
       ]
      }
     ],
     "prompt_number": 36
    },
    {
     "cell_type": "markdown",
     "metadata": {},
     "source": [
      "# dataset 3 "
     ]
    },
    {
     "cell_type": "code",
     "collapsed": false,
     "input": [
      "ls"
     ],
     "language": "python",
     "metadata": {},
     "outputs": [
      {
       "output_type": "stream",
       "stream": "stdout",
       "text": [
        "dataset3Params.m           processEmail.m\r\n",
        "emailFeatures.m            readFile.m\r\n",
        "emailSample1.txt           spamSample1.txt\r\n",
        "emailSample2.txt           spamSample2.txt\r\n",
        "ex6.m                      spamTest.mat\r\n",
        "ex6_spam.m                 spamTrain.mat\r\n",
        "ex6data1.mat               submit.m\r\n",
        "ex6data2.mat               submitWeb.m\r\n",
        "ex6data3.mat               svmPredict.m\r\n",
        "gaussianKernel.m           svmTrain.m\r\n",
        "getVocabList.m             visualizeBoundary.m\r\n",
        "linearKernel.m             visualizeBoundaryLinear.m\r\n",
        "plotData.m                 vocab.txt\r\n",
        "porterStemmer.m\r\n"
       ]
      }
     ],
     "prompt_number": 37
    },
    {
     "cell_type": "code",
     "collapsed": false,
     "input": [
      "data3 = loadmat('ex6data3.mat')\n",
      "data3.keys()"
     ],
     "language": "python",
     "metadata": {},
     "outputs": [
      {
       "metadata": {},
       "output_type": "pyout",
       "prompt_number": 38,
       "text": [
        "['yval', '__header__', '__globals__', 'Xval', 'y', 'X', '__version__']"
       ]
      }
     ],
     "prompt_number": 38
    },
    {
     "cell_type": "code",
     "collapsed": false,
     "input": [
      "y3val = data3['yval']\n",
      "X3val = data3['Xval']\n",
      "y3 = data3['y']\n",
      "X3 = data3['X']"
     ],
     "language": "python",
     "metadata": {},
     "outputs": [],
     "prompt_number": 39
    },
    {
     "cell_type": "code",
     "collapsed": false,
     "input": [
      "m3,n3 = X3.shape\n",
      "y3.shape = (m3,)\n",
      "\n",
      "mv,nv = X3val.shape\n",
      "y3val.shape = (mv,)"
     ],
     "language": "python",
     "metadata": {},
     "outputs": [],
     "prompt_number": 40
    },
    {
     "cell_type": "code",
     "collapsed": false,
     "input": [
      "pos3val = (y3val == 1).nonzero()[0]\n",
      "neg3val = (y3val == 0).nonzero()[0]\n",
      "\n",
      "pos3 = (y3 == 1).nonzero()[0]\n",
      "neg3 = (y3 == 0).nonzero()[0]"
     ],
     "language": "python",
     "metadata": {},
     "outputs": [],
     "prompt_number": 41
    },
    {
     "cell_type": "code",
     "collapsed": false,
     "input": [
      "pos3val.shape, "
     ],
     "language": "python",
     "metadata": {},
     "outputs": [
      {
       "metadata": {},
       "output_type": "pyout",
       "prompt_number": 42,
       "text": [
        "((87,),)"
       ]
      }
     ],
     "prompt_number": 42
    },
    {
     "cell_type": "code",
     "collapsed": false,
     "input": [
      "plot(X3[pos3,0],X3[pos3,1],'ob')\n",
      "plot(X3[neg3,0],X3[neg3,1],'xr')"
     ],
     "language": "python",
     "metadata": {},
     "outputs": [
      {
       "metadata": {},
       "output_type": "pyout",
       "prompt_number": 43,
       "text": [
        "[<matplotlib.lines.Line2D at 0x107954290>]"
       ]
      },
      {
       "metadata": {},
       "output_type": "display_data",
       "png": "[encoded data removed]",
       "text": [
        "<matplotlib.figure.Figure at 0x107954250>"
       ]
      }
     ],
     "prompt_number": 43
    },
    {
     "cell_type": "code",
     "collapsed": false,
     "input": [
      "X3.shape, y3.shape"
     ],
     "language": "python",
     "metadata": {},
     "outputs": [
      {
       "metadata": {},
       "output_type": "pyout",
       "prompt_number": 44,
       "text": [
        "((211, 2), (211,))"
       ]
      }
     ],
     "prompt_number": 44
    },
    {
     "cell_type": "code",
     "collapsed": false,
     "input": [
      "C_list = array([0.01, 0.03, 0.1, 0.3, 1, 3, 10, 30])\n",
      "sigma_list = array([0.01, 0.03, 0.1, 0.3, 1, 3, 10, 30])\n",
      "gamma_list = 0.5/sigma_list**2"
     ],
     "language": "python",
     "metadata": {},
     "outputs": [],
     "prompt_number": 155
    },
    {
     "cell_type": "code",
     "collapsed": false,
     "input": [
      "res = zeros((64,3))\n",
      "k = 0\n",
      "for i in range(8):\n",
      "    for j in range(8):\n",
      "        clf3 = SVR(C=C_list[i], kernel='rbf', gamma=gamma_list[j], max_iter=4000)\n",
      "        clf3.fit(X3,y3)\n",
      "        res[k,2] = clf3.score(X3val,y3val)\n",
      "        res[k,0] = C_list[i]\n",
      "        res[k,1] = sigma_list[j]\n",
      "        k += 1"
     ],
     "language": "python",
     "metadata": {},
     "outputs": [],
     "prompt_number": 157
    },
    {
     "cell_type": "code",
     "collapsed": false,
     "input": [
      "clf3_2 = SVR(C=10, kernel='rbf', gamma=0.5/0.3**2, max_iter=4000)"
     ],
     "language": "python",
     "metadata": {},
     "outputs": [],
     "prompt_number": 160
    },
    {
     "cell_type": "code",
     "collapsed": false,
     "input": [
      "clf3_2.fit(X3,y3)"
     ],
     "language": "python",
     "metadata": {},
     "outputs": [
      {
       "metadata": {},
       "output_type": "pyout",
       "prompt_number": 161,
       "text": [
        "SVR(C=10, cache_size=200, coef0=0.0, degree=3, epsilon=0.1,\n",
        "  gamma=5.55555555556, kernel='rbf', max_iter=4000, probability=False,\n",
        "  random_state=None, shrinking=True, tol=0.001, verbose=False)"
       ]
      }
     ],
     "prompt_number": 161
    },
    {
     "cell_type": "code",
     "collapsed": false,
     "input": [
      "clf3_2.score(X3,y3)"
     ],
     "language": "python",
     "metadata": {},
     "outputs": [
      {
       "metadata": {},
       "output_type": "pyout",
       "prompt_number": 162,
       "text": [
        "0.73417044418894006"
       ]
      }
     ],
     "prompt_number": 162
    },
    {
     "cell_type": "code",
     "collapsed": false,
     "input": [
      "clf3_2.score(X3val,y3val)"
     ],
     "language": "python",
     "metadata": {},
     "outputs": [
      {
       "metadata": {},
       "output_type": "pyout",
       "prompt_number": 163,
       "text": [
        "0.75900528711636261"
       ]
      }
     ],
     "prompt_number": 163
    },
    {
     "cell_type": "markdown",
     "metadata": {},
     "source": [
      "# plot decision boundary"
     ]
    },
    {
     "cell_type": "code",
     "collapsed": false,
     "input": [
      "u3 = arange(-0.6,0.3,0.05)\n",
      "v3 = arange(-0.8,0.6,0.05)\n",
      "nu3, nv3 = u3.size, v3.size"
     ],
     "language": "python",
     "metadata": {},
     "outputs": [],
     "prompt_number": 50
    },
    {
     "cell_type": "code",
     "collapsed": false,
     "input": [
      "uu3,vv3 = meshgrid(u3,v3)"
     ],
     "language": "python",
     "metadata": {},
     "outputs": [],
     "prompt_number": 51
    },
    {
     "cell_type": "code",
     "collapsed": false,
     "input": [
      "X3_plt = vstack((uu3.flatten(),vv3.flatten())).T"
     ],
     "language": "python",
     "metadata": {},
     "outputs": [],
     "prompt_number": 52
    },
    {
     "cell_type": "code",
     "collapsed": false,
     "input": [
      "y3_plt = clf3_2.predict(X3_plt)\n",
      "y3_plt.shape = (nv3,nu3)"
     ],
     "language": "python",
     "metadata": {},
     "outputs": [],
     "prompt_number": 164
    },
    {
     "cell_type": "code",
     "collapsed": false,
     "input": [
      "u3.shape, v3.shape, y3_plt.shape"
     ],
     "language": "python",
     "metadata": {},
     "outputs": [
      {
       "metadata": {},
       "output_type": "pyout",
       "prompt_number": 165,
       "text": [
        "((18,), (28,), (28, 18))"
       ]
      }
     ],
     "prompt_number": 165
    },
    {
     "cell_type": "code",
     "collapsed": false,
     "input": [
      "plot(X3[pos3,0],X3[pos3,1],'ob')\n",
      "plot(X3[neg3,0],X3[neg3,1],'xr')\n",
      "contour(u3,v3,y3_plt,[0.5])"
     ],
     "language": "python",
     "metadata": {},
     "outputs": [
      {
       "metadata": {},
       "output_type": "pyout",
       "prompt_number": 166,
       "text": [
        "<matplotlib.contour.QuadContourSet instance at 0x107c9fd40>"
       ]
      },
      {
       "metadata": {},
       "output_type": "display_data",
       "png": "[encoded data removed]",
       "text": [
        "<matplotlib.figure.Figure at 0x107c927d0>"
       ]
      }
     ],
     "prompt_number": 166
    },
    {
     "cell_type": "code",
     "collapsed": false,
     "input": [],
     "language": "python",
     "metadata": {},
     "outputs": [],
     "prompt_number": 55
    }
   ],
   "metadata": {}
  }
 ]
}