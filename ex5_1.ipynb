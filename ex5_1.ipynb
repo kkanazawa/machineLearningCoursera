{
 "cells": [
  {
   "cell_type": "markdown",
   "metadata": {},
   "source": [
    "# visualization of data"
   ]
  },
  {
   "cell_type": "code",
   "execution_count": 142,
   "metadata": {
    "collapsed": true
   },
   "outputs": [],
   "source": [
    "%matplotlib inline\n",
    "import numpy as np\n",
    "import matplotlib.pyplot as plt"
   ]
  },
  {
   "cell_type": "code",
   "execution_count": 143,
   "metadata": {
    "collapsed": false
   },
   "outputs": [
    {
     "name": "stdout",
     "output_type": "stream",
     "text": [
      "ex5.m                    learningCurve.m          submit.m\r\n",
      "ex5data1.mat             linearRegCostFunction.m  submitWeb.m\r\n",
      "featureNormalize.m       plotFit.m                trainLinearReg.m\r\n",
      "fmincg.m                 polyFeatures.m           validationCurve.m\r\n"
     ]
    }
   ],
   "source": [
    "ls"
   ]
  },
  {
   "cell_type": "code",
   "execution_count": 144,
   "metadata": {
    "collapsed": false
   },
   "outputs": [
    {
     "name": "stdout",
     "output_type": "stream",
     "text": [
      "[Errno 2] No such file or directory: 'mlclass-ex5/'\n",
      "/Users/kanazawa/Dropbox/andrew/mlclass-ex5-007/mlclass-ex5\n"
     ]
    }
   ],
   "source": [
    "cd mlclass-ex5/"
   ]
  },
  {
   "cell_type": "code",
   "execution_count": 145,
   "metadata": {
    "collapsed": false
   },
   "outputs": [
    {
     "name": "stdout",
     "output_type": "stream",
     "text": [
      "ex5.m                    learningCurve.m          submit.m\r\n",
      "ex5data1.mat             linearRegCostFunction.m  submitWeb.m\r\n",
      "featureNormalize.m       plotFit.m                trainLinearReg.m\r\n",
      "fmincg.m                 polyFeatures.m           validationCurve.m\r\n"
     ]
    }
   ],
   "source": [
    "ls"
   ]
  },
  {
   "cell_type": "code",
   "execution_count": 146,
   "metadata": {
    "collapsed": false
   },
   "outputs": [],
   "source": [
    "from scipy.io import loadmat"
   ]
  },
  {
   "cell_type": "code",
   "execution_count": 147,
   "metadata": {
    "collapsed": false
   },
   "outputs": [],
   "source": [
    "data1 = loadmat('ex5data1.mat')"
   ]
  },
  {
   "cell_type": "code",
   "execution_count": 148,
   "metadata": {
    "collapsed": false
   },
   "outputs": [
    {
     "data": {
      "text/plain": [
       "['ytest',\n",
       " 'yval',\n",
       " '__header__',\n",
       " '__globals__',\n",
       " 'Xtest',\n",
       " 'Xval',\n",
       " 'y',\n",
       " 'X',\n",
       " '__version__']"
      ]
     },
     "execution_count": 148,
     "metadata": {},
     "output_type": "execute_result"
    }
   ],
   "source": [
    "data1.keys()"
   ]
  },
  {
   "cell_type": "code",
   "execution_count": 149,
   "metadata": {
    "collapsed": false
   },
   "outputs": [],
   "source": [
    "ytest = data1['ytest']\n",
    "yval = data1['yval']\n",
    "Xtest = data1['Xtest']\n",
    "Xval = data1['Xval']\n",
    "y = data1['y']\n",
    "X = data1['X']"
   ]
  },
  {
   "cell_type": "code",
   "execution_count": 150,
   "metadata": {
    "collapsed": false
   },
   "outputs": [
    {
     "data": {
      "text/plain": [
       "((12, 1), (21, 1), (21, 1))"
      ]
     },
     "execution_count": 150,
     "metadata": {},
     "output_type": "execute_result"
    }
   ],
   "source": [
    "X.shape, Xval.shape, Xtest.shape"
   ]
  },
  {
   "cell_type": "code",
   "execution_count": 151,
   "metadata": {
    "collapsed": false
   },
   "outputs": [],
   "source": [
    "m,n = X.shape"
   ]
  },
  {
   "cell_type": "code",
   "execution_count": 152,
   "metadata": {
    "collapsed": false
   },
   "outputs": [
    {
     "data": {
      "text/plain": [
       "<matplotlib.text.Text at 0x10b054390>"
      ]
     },
     "execution_count": 152,
     "metadata": {},
     "output_type": "execute_result"
    },
    {
     "data": {
      "image/png": "[encoded data removed]",
      "text/plain": [
       "<matplotlib.figure.Figure at 0x10b1bcc10>"
      ]
     },
     "metadata": {},
     "output_type": "display_data"
    }
   ],
   "source": [
    "plt.plot(X,y,'rx')\n",
    "plt.xlabel('Change in water level (x)')\n",
    "plt.ylabel('Water flowing out of the dam (y)')"
   ]
  },
  {
   "cell_type": "markdown",
   "metadata": {},
   "source": [
    "# cost function and its gradient"
   ]
  },
  {
   "cell_type": "code",
   "execution_count": 165,
   "metadata": {
    "collapsed": false
   },
   "outputs": [],
   "source": [
    "# add intercept term\n",
    "Xp = np.hstack((np.ones((m,1)),X))"
   ]
  },
  {
   "cell_type": "code",
   "execution_count": 168,
   "metadata": {
    "collapsed": true
   },
   "outputs": [],
   "source": [
    "from numpy.linalg import norm"
   ]
  },
  {
   "cell_type": "code",
   "execution_count": 171,
   "metadata": {
    "collapsed": false
   },
   "outputs": [],
   "source": [
    "def cost(theta,X,y,lam):\n",
    "    m,n = X.shape\n",
    "    h = np.dot(X,theta)\n",
    "    err = h - y.ravel()\n",
    "    cost = 1./(2.*m) * norm(err)**2.\n",
    "    reg = lam/(2.*m) * norm(theta[1:])**2.\n",
    "    return cost + reg"
   ]
  },
  {
   "cell_type": "code",
   "execution_count": 186,
   "metadata": {
    "collapsed": false
   },
   "outputs": [
    {
     "data": {
      "text/plain": [
       "303.99319222026423"
      ]
     },
     "execution_count": 186,
     "metadata": {},
     "output_type": "execute_result"
    }
   ],
   "source": [
    "theta = np.ones(2)\n",
    "cost(theta,Xp,y,1.)"
   ]
  },
  {
   "cell_type": "code",
   "execution_count": 173,
   "metadata": {
    "collapsed": false
   },
   "outputs": [],
   "source": [
    "def grad(theta,X,y,lam):\n",
    "\n",
    "    m,n = X.shape\n",
    "    h = np.dot(X,theta)\n",
    "    err = h - y.ravel()\n",
    "\n",
    "    grad = 1./m * np.dot(err,X)    \n",
    "    reg = lam/m * np.insert(theta[1:],0,0.)\n",
    "    \n",
    "    return grad + reg"
   ]
  },
  {
   "cell_type": "code",
   "execution_count": 174,
   "metadata": {
    "collapsed": false
   },
   "outputs": [
    {
     "data": {
      "text/plain": [
       "array([ -15.30301567,  598.25074417])"
      ]
     },
     "execution_count": 174,
     "metadata": {},
     "output_type": "execute_result"
    }
   ],
   "source": [
    "grad(theta,Xp,y,1.)"
   ]
  },
  {
   "cell_type": "markdown",
   "metadata": {},
   "source": [
    "# Fitting linear regression"
   ]
  },
  {
   "cell_type": "code",
   "execution_count": 175,
   "metadata": {
    "collapsed": false
   },
   "outputs": [],
   "source": [
    "from scipy.optimize import minimize"
   ]
  },
  {
   "cell_type": "code",
   "execution_count": 180,
   "metadata": {
    "collapsed": false
   },
   "outputs": [],
   "source": [
    "reg = minimize(cost,theta,args=(Xp,y,0.))"
   ]
  },
  {
   "cell_type": "code",
   "execution_count": 181,
   "metadata": {
    "collapsed": false
   },
   "outputs": [],
   "source": [
    "t0,t1 = reg.x"
   ]
  },
  {
   "cell_type": "code",
   "execution_count": 182,
   "metadata": {
    "collapsed": false
   },
   "outputs": [
    {
     "data": {
      "text/plain": [
       "   status: 0\n",
       "  success: True\n",
       "     njev: 5\n",
       "     nfev: 20\n",
       " hess_inv: array([[ 1.03142199,  0.00617881],\n",
       "       [ 0.00617881,  0.001215  ]])\n",
       "      fun: 22.37390649510901\n",
       "        x: array([ 13.08790311,   0.36777922])\n",
       "  message: 'Optimization terminated successfully.'\n",
       "      jac: array([ -4.76837158e-07,   0.00000000e+00])"
      ]
     },
     "execution_count": 182,
     "metadata": {},
     "output_type": "execute_result"
    }
   ],
   "source": [
    "reg"
   ]
  },
  {
   "cell_type": "code",
   "execution_count": 183,
   "metadata": {
    "collapsed": false
   },
   "outputs": [],
   "source": [
    "u = np.linspace(min(X),max(X))"
   ]
  },
  {
   "cell_type": "code",
   "execution_count": 184,
   "metadata": {
    "collapsed": false
   },
   "outputs": [],
   "source": [
    "v = t0 + t1*u"
   ]
  },
  {
   "cell_type": "code",
   "execution_count": 185,
   "metadata": {
    "collapsed": false
   },
   "outputs": [
    {
     "data": {
      "text/plain": [
       "<matplotlib.text.Text at 0x10b30c310>"
      ]
     },
     "execution_count": 185,
     "metadata": {},
     "output_type": "execute_result"
    },
    {
     "data": {
      "image/png": "[encoded data removed]",
      "text/plain": [
       "<matplotlib.figure.Figure at 0x10b262290>"
      ]
     },
     "metadata": {},
     "output_type": "display_data"
    }
   ],
   "source": [
    "plt.plot(u,v,'b')\n",
    "plt.plot(X,y,'rx')\n",
    "plt.xlabel('Change in water level (x)')\n",
    "plt.ylabel('Water flowing out of the dam (y)')"
   ]
  },
  {
   "cell_type": "markdown",
   "metadata": {},
   "source": [
    "# learning curves"
   ]
  },
  {
   "cell_type": "code",
   "execution_count": 48,
   "metadata": {
    "collapsed": false
   },
   "outputs": [],
   "source": [
    "# add intercept term to Xval\n",
    "mv,nv = Xval.shape\n",
    "Xvalp = np.hstack((np.ones((mv,1)),Xval))"
   ]
  },
  {
   "cell_type": "code",
   "execution_count": 49,
   "metadata": {
    "collapsed": false
   },
   "outputs": [],
   "source": [
    "def learningCurve(X,y,Xval,yval,lam):\n",
    "\n",
    "    m,n = X.shape\n",
    "    a = np.zeros((m,3))\n",
    "    theta_tmp = np.zeros(n)\n",
    "    \n",
    "    for i in range(1,m+1):\n",
    "\n",
    "        reg_tmp = minimize(cost,theta_tmp,args=(X[0:i,],y[0:i],lam))\n",
    "        theta_tmp = reg_tmp.x\n",
    "\n",
    "        J_train = cost(theta_tmp,X[0:i,],y[0:i],0.)\n",
    "        J_val = cost(theta_tmp,Xval,yval,0.)\n",
    " \n",
    "        a[i-1,0], a[i-1,1], a[i-1,2] = i, J_train, J_val\n",
    "        \n",
    "    return a    "
   ]
  },
  {
   "cell_type": "code",
   "execution_count": 50,
   "metadata": {
    "collapsed": false
   },
   "outputs": [],
   "source": [
    "a = learningCurve(Xp,y,Xvalp,yval,0.)"
   ]
  },
  {
   "cell_type": "code",
   "execution_count": 53,
   "metadata": {
    "collapsed": false
   },
   "outputs": [
    {
     "data": {
      "text/plain": [
       "<matplotlib.legend.Legend at 0x10a7aa3d0>"
      ]
     },
     "execution_count": 53,
     "metadata": {},
     "output_type": "execute_result"
    },
    {
     "data": {
      "image/png": "[encoded data removed]",
      "text/plain": [
       "<matplotlib.figure.Figure at 0x10a613810>"
      ]
     },
     "metadata": {},
     "output_type": "display_data"
    }
   ],
   "source": [
    "plt.plot(a[:,0],a[:,1],'b')\n",
    "plt.plot(a[:,0],a[:,2],'g')\n",
    "plt.axis([0,13,0,150])\n",
    "plt.xlabel('Number of training examples')\n",
    "plt.ylabel('Error')\n",
    "plt.legend(['Train','CV'])"
   ]
  },
  {
   "cell_type": "markdown",
   "metadata": {},
   "source": [
    "# polynomial regression"
   ]
  },
  {
   "cell_type": "markdown",
   "metadata": {},
   "source": [
    "## optimization"
   ]
  },
  {
   "cell_type": "code",
   "execution_count": 54,
   "metadata": {
    "collapsed": false
   },
   "outputs": [],
   "source": [
    "# feature scaling\n",
    "def featureNormalize(X,mu,sig):\n",
    "    X_s = (X - mu)/sig\n",
    "    return X_s\n",
    "\n",
    "# perform feature scaling and add intercept term\n",
    "def getXp(X,p,mu,sig):\n",
    "    m,n = X.shape\n",
    "    Xp = np.hstack((np.ones((m,1)),featureNormalize(X,mu,sig)))\n",
    "    return Xp"
   ]
  },
  {
   "cell_type": "code",
   "execution_count": 55,
   "metadata": {
    "collapsed": false
   },
   "outputs": [],
   "source": [
    "# return polynomial (work without intercept term)\n",
    "def X_poly(X,p):\n",
    "    X_poly = X**(np.arange(1,p+1))    \n",
    "    return X_poly"
   ]
  },
  {
   "cell_type": "code",
   "execution_count": 57,
   "metadata": {
    "collapsed": false
   },
   "outputs": [],
   "source": [
    "# perform optimization\n",
    "def getTheta(X,y,p,lam):\n",
    "    \n",
    "#    m,n = X.shape\n",
    "    \n",
    "    theta_p_ini = np.zeros(p+1)    \n",
    "    reg_p = minimize(cost,theta_p_ini,args=(X,y,lam))\n",
    "    \n",
    "    return reg_p.x"
   ]
  },
  {
   "cell_type": "code",
   "execution_count": 59,
   "metadata": {
    "collapsed": false
   },
   "outputs": [],
   "source": [
    "# make polynomial\n",
    "p = 8\n",
    "X_p = X_poly(X,p)  \n",
    "Xval_p = X_poly(Xval,p)\n",
    "\n",
    "# feature scaling variables\n",
    "mu = np.mean(X_p,0)  \n",
    "sig = np.std(X_p,0)\n",
    "    \n",
    "# perform feature scaling and add intercept term\n",
    "Xp_p = getXp(X_p,p,mu,sig) \n",
    "Xvalp_p = getXp(Xval_p,p,mu,sig)"
   ]
  },
  {
   "cell_type": "code",
   "execution_count": 60,
   "metadata": {
    "collapsed": false
   },
   "outputs": [
    {
     "data": {
      "text/plain": [
       "((12, 9), (21, 9))"
      ]
     },
     "execution_count": 60,
     "metadata": {},
     "output_type": "execute_result"
    }
   ],
   "source": [
    "Xp_p.shape, Xvalp_p.shape"
   ]
  },
  {
   "cell_type": "code",
   "execution_count": 209,
   "metadata": {
    "collapsed": false
   },
   "outputs": [],
   "source": [
    "p = 8\n",
    "lam = 0.\n",
    "theta_8 = getTheta(Xp_p[:,],y[:],p,lam)"
   ]
  },
  {
   "cell_type": "code",
   "execution_count": 215,
   "metadata": {
    "collapsed": false
   },
   "outputs": [
    {
     "data": {
      "text/plain": [
       "((12, 9), (12, 1))"
      ]
     },
     "execution_count": 215,
     "metadata": {},
     "output_type": "execute_result"
    }
   ],
   "source": [
    "Xp_p[:,].shape, y[:].shape"
   ]
  },
  {
   "cell_type": "code",
   "execution_count": 62,
   "metadata": {
    "collapsed": false
   },
   "outputs": [
    {
     "data": {
      "text/plain": [
       "array([ 11.21758878,   9.11790279,  18.15678223,  29.05672318,\n",
       "       -27.10893458, -74.81309035,   6.46072748,  60.96734288,  20.8924132 ])"
      ]
     },
     "execution_count": 62,
     "metadata": {},
     "output_type": "execute_result"
    }
   ],
   "source": [
    "theta_8"
   ]
  },
  {
   "cell_type": "code",
   "execution_count": 63,
   "metadata": {
    "collapsed": false
   },
   "outputs": [
    {
     "data": {
      "text/plain": [
       "0.028891832535703071"
      ]
     },
     "execution_count": 63,
     "metadata": {},
     "output_type": "execute_result"
    }
   ],
   "source": [
    "cost(theta_8,Xp_p,y,0.)"
   ]
  },
  {
   "cell_type": "markdown",
   "metadata": {},
   "source": [
    "## plot "
   ]
  },
  {
   "cell_type": "code",
   "execution_count": 64,
   "metadata": {
    "collapsed": false
   },
   "outputs": [],
   "source": [
    "u = np.linspace(-60,60)"
   ]
  },
  {
   "cell_type": "code",
   "execution_count": 67,
   "metadata": {
    "collapsed": false
   },
   "outputs": [],
   "source": [
    "p = 8\n",
    "u_8 = X_poly(u.reshape(50,1),p)\n",
    "up_8 = np.hstack((np.ones((50,1)),featureNormalize(u_8,mu,sig))) # use mu and sig of X_p\n",
    "v = np.dot(up_8,theta_8) # prediction of the model"
   ]
  },
  {
   "cell_type": "code",
   "execution_count": 70,
   "metadata": {
    "collapsed": false
   },
   "outputs": [
    {
     "data": {
      "text/plain": [
       "[-80, 80, -40, 80]"
      ]
     },
     "execution_count": 70,
     "metadata": {},
     "output_type": "execute_result"
    },
    {
     "data": {
      "image/png": "[encoded data removed]",
      "text/plain": [
       "<matplotlib.figure.Figure at 0x10a7ebb90>"
      ]
     },
     "metadata": {},
     "output_type": "display_data"
    }
   ],
   "source": [
    "plt.plot(u,v)\n",
    "plt.plot(X,y,'rx')\n",
    "plt.xlabel('Change in water level (x)')\n",
    "plt.ylabel('Water flowing out of the dam (y)')\n",
    "plt.axis([-80,80,-40,80])"
   ]
  },
  {
   "cell_type": "markdown",
   "metadata": {},
   "source": [
    "## learning curve"
   ]
  },
  {
   "cell_type": "code",
   "execution_count": 76,
   "metadata": {
    "collapsed": false
   },
   "outputs": [],
   "source": [
    "lc8 = learningCurve(Xp_p,y,Xvalp_p,yval,0.)"
   ]
  },
  {
   "cell_type": "code",
   "execution_count": 77,
   "metadata": {
    "collapsed": false
   },
   "outputs": [
    {
     "data": {
      "text/plain": [
       "<matplotlib.legend.Legend at 0x10a0ce850>"
      ]
     },
     "execution_count": 77,
     "metadata": {},
     "output_type": "execute_result"
    },
    {
     "data": {
      "image/png": "[encoded data removed]",
      "text/plain": [
       "<matplotlib.figure.Figure at 0x10a2d4390>"
      ]
     },
     "metadata": {},
     "output_type": "display_data"
    }
   ],
   "source": [
    "plt.plot(lc8[:,0],lc8[:,1],'b')\n",
    "plt.plot(lc8[:,0],lc8[:,2],'g')\n",
    "plt.axis([0,13,0,100])\n",
    "plt.xlabel('Number of training examples')\n",
    "plt.ylabel('Error')\n",
    "plt.legend(['Train','CV'])"
   ]
  },
  {
   "cell_type": "markdown",
   "metadata": {},
   "source": [
    "The above result is slightly different from the one with Octave. \n",
    "\n",
    "Nevertheless, if my code is correct, it turns out that choosing p=8 without regularization gives us a high-variance result:\n",
    "\n",
    "While the training set is well reproduced, the model fails to describe the CV set."
   ]
  },
  {
   "cell_type": "markdown",
   "metadata": {},
   "source": [
    "# try different values of lambda"
   ]
  },
  {
   "cell_type": "code",
   "execution_count": 78,
   "metadata": {
    "collapsed": false
   },
   "outputs": [],
   "source": [
    "# try lam = 1 and 100\n",
    "p = 8\n",
    "theta_8_lam1 = getTheta(Xp_p,y,p,1.)\n",
    "theta_8_lam100 = getTheta(Xp_p,y,p,100.)"
   ]
  },
  {
   "cell_type": "code",
   "execution_count": 80,
   "metadata": {
    "collapsed": false
   },
   "outputs": [],
   "source": [
    "v_lam1 = np.dot(up_8,theta_8_lam1)\n",
    "v_lam100 = np.dot(up_8,theta_8_lam100)"
   ]
  },
  {
   "cell_type": "code",
   "execution_count": 82,
   "metadata": {
    "collapsed": false
   },
   "outputs": [
    {
     "data": {
      "text/plain": [
       "<matplotlib.legend.Legend at 0x10acb2c50>"
      ]
     },
     "execution_count": 82,
     "metadata": {},
     "output_type": "execute_result"
    },
    {
     "data": {
      "image/png": "[encoded data removed]",
      "text/plain": [
       "<matplotlib.figure.Figure at 0x10a129a10>"
      ]
     },
     "metadata": {},
     "output_type": "display_data"
    }
   ],
   "source": [
    "plt.plot(u,v_lam1,'b')\n",
    "plt.plot(u,v_lam100,'y')\n",
    "\n",
    "plt.plot(X,y,'rx')\n",
    "plt.xlabel('Change in water level (x)')\n",
    "plt.ylabel('Water flowing out of the dam (y)')\n",
    "plt.axis([-80,80,-20,80])\n",
    "\n",
    "plt.legend(['lam =   1', 'lam = 100'])"
   ]
  },
  {
   "cell_type": "markdown",
   "metadata": {},
   "source": [
    "## learning curve for lam = 1"
   ]
  },
  {
   "cell_type": "code",
   "execution_count": 83,
   "metadata": {
    "collapsed": false
   },
   "outputs": [],
   "source": [
    "lc8_1 = learningCurve(Xp_p,y,Xvalp_p,yval,1.)"
   ]
  },
  {
   "cell_type": "code",
   "execution_count": 84,
   "metadata": {
    "collapsed": false
   },
   "outputs": [
    {
     "data": {
      "text/plain": [
       "<matplotlib.legend.Legend at 0x10adeb390>"
      ]
     },
     "execution_count": 84,
     "metadata": {},
     "output_type": "execute_result"
    },
    {
     "data": {
      "image/png": "[encoded data removed]",
      "text/plain": [
       "<matplotlib.figure.Figure at 0x10acd3a90>"
      ]
     },
     "metadata": {},
     "output_type": "display_data"
    }
   ],
   "source": [
    "plt.plot(lc8_1[:,0],lc8_1[:,1],'b')\n",
    "plt.plot(lc8_1[:,0],lc8_1[:,2],'g')\n",
    "\n",
    "plt.axis([0,13,0,100])\n",
    "plt.xlabel('Number of training examples')\n",
    "plt.ylabel('Error')\n",
    "plt.legend(['Train','CV'])"
   ]
  },
  {
   "cell_type": "markdown",
   "metadata": {},
   "source": [
    "# Select lambda using CV set"
   ]
  },
  {
   "cell_type": "code",
   "execution_count": 191,
   "metadata": {
    "collapsed": false
   },
   "outputs": [
    {
     "data": {
      "text/plain": [
       "array([ 11.21758982,   8.36726072,   5.10199258,   3.39009395,\n",
       "         2.15885777,   1.62045338,   0.97246535,   1.02575957,   0.3226377 ])"
      ]
     },
     "execution_count": 191,
     "metadata": {},
     "output_type": "execute_result"
    }
   ],
   "source": [
    "getTheta(Xp_p,y,p,1.)\n"
   ]
  },
  {
   "cell_type": "code",
   "execution_count": 192,
   "metadata": {
    "collapsed": false
   },
   "outputs": [],
   "source": [
    "lam_a = np.array([0,0.001,0.003,0.01,0.03,0.1,0.3,1,3,10])\n"
   ]
  },
  {
   "cell_type": "code",
   "execution_count": 193,
   "metadata": {
    "collapsed": false
   },
   "outputs": [],
   "source": [
    "c = np.zeros((len(lam_a),3))\n",
    "i = 0\n",
    "for lam in lam_a:\n",
    "\n",
    "    theta_tmp = getTheta(Xp_p,y,p,lam)\n",
    "    J_train = cost(theta_tmp,Xp_p,y,0.)\n",
    "    J_val = cost(theta_tmp,Xvalp_p,yval,0.)\n",
    "\n",
    "    c[i,0], c[i,1], c[i,2] = lam, J_train, J_val\n",
    "    i += 1\n",
    "    \n",
    "    \n",
    "    \n",
    "    "
   ]
  },
  {
   "cell_type": "code",
   "execution_count": 194,
   "metadata": {
    "collapsed": false
   },
   "outputs": [
    {
     "data": {
      "text/plain": [
       "<matplotlib.legend.Legend at 0x10b64f3d0>"
      ]
     },
     "execution_count": 194,
     "metadata": {},
     "output_type": "execute_result"
    },
    {
     "data": {
      "image/png": "[encoded data removed]",
      "text/plain": [
       "<matplotlib.figure.Figure at 0x10b53dfd0>"
      ]
     },
     "metadata": {},
     "output_type": "display_data"
    }
   ],
   "source": [
    "plt.plot(c[:,0],c[:,1])\n",
    "plt.plot(c[:,0],c[:,2])\n",
    "plt.xlabel('lambda')\n",
    "plt.ylabel('Error')\n",
    "plt.axis([0,10,0,20])\n",
    "plt.legend(['Train', 'CV'])"
   ]
  },
  {
   "cell_type": "markdown",
   "metadata": {},
   "source": [
    "We find the best value of lambda is around 3."
   ]
  },
  {
   "cell_type": "markdown",
   "metadata": {},
   "source": [
    "# K-fold"
   ]
  },
  {
   "cell_type": "code",
   "execution_count": 197,
   "metadata": {
    "collapsed": false
   },
   "outputs": [],
   "source": [
    "from sklearn.cross_validation import KFold"
   ]
  },
  {
   "cell_type": "code",
   "execution_count": 251,
   "metadata": {
    "collapsed": true
   },
   "outputs": [],
   "source": [
    "from sklearn.metrics import mean_squared_error"
   ]
  },
  {
   "cell_type": "code",
   "execution_count": 261,
   "metadata": {
    "collapsed": false
   },
   "outputs": [
    {
     "name": "stdout",
     "output_type": "stream",
     "text": [
      "0.0 54.3656899989 0.0288918056731\n",
      "0.001 9.35712158394 0.107980885868\n",
      "0.003 15.9224337543 0.166791809142\n",
      "0.01 17.1490020987 0.217952160861\n",
      "0.03 13.2136216772 0.275151272744\n",
      "0.1 7.92649181633 0.438664293131\n",
      "0.3 4.7608273716 0.868167189185\n",
      "1.0 4.26335388919 1.95868830472\n",
      "3.0 3.83218043732 4.52509710546\n",
      "10.0 8.88969328735 14.8257832131\n"
     ]
    }
   ],
   "source": [
    "k = 3\n",
    "kf = KFold(m, k, shuffle=True)\n",
    "p = 8\n",
    "\n",
    "\n",
    "for lam in lam_a:\n",
    "    \n",
    "    score_a = []\n",
    "    score_b = []\n",
    "    \n",
    "    for train_idx, test_idx in kf:\n",
    "    \n",
    "        Xp_p_train, y_train = Xp_p[train_idx], y[train_idx]\n",
    "        Xp_p_test, y_test = Xp_p[test_idx], y[test_idx]\n",
    "\n",
    "        theta_8 = getTheta(Xp_p, y, p, lam)\n",
    "        \n",
    "        u_8 = X_poly(u.reshape(50,1),p)\n",
    "        up_8 = np.hstack((np.ones((50,1)),featureNormalize(u_8,mu,sig))) # use mu and sig of X_p\n",
    "        v = np.dot(up_8,theta_8) # prediction of the model\n",
    "\n",
    "        J_val = 0.5 * mean_squared_error(np.dot(Xvalp_p,theta_8), yval)\n",
    "#        J_val = cost(theta_8, Xvalp_p, yval, 0.)\n",
    "#        J_train = cost(theta_8,Xp_p,y,0.)\n",
    "        J_train = 0.5 * mean_squared_error(np.dot(Xp_p,theta_8), y)\n",
    "\n",
    "        score_a.append(J_val)\n",
    "        score_b.append(J_train)\n",
    "        \n",
    "#        print score_a\n",
    "    print lam, np.mean(score_a), np.mean(score_b)"
   ]
  },
  {
   "cell_type": "code",
   "execution_count": null,
   "metadata": {
    "collapsed": true
   },
   "outputs": [],
   "source": []
  },
  {
   "cell_type": "code",
   "execution_count": null,
   "metadata": {
    "collapsed": true
   },
   "outputs": [],
   "source": []
  },
  {
   "cell_type": "code",
   "execution_count": null,
   "metadata": {
    "collapsed": true
   },
   "outputs": [],
   "source": []
  },
  {
   "cell_type": "code",
   "execution_count": null,
   "metadata": {
    "collapsed": true
   },
   "outputs": [],
   "source": []
  },
  {
   "cell_type": "code",
   "execution_count": null,
   "metadata": {
    "collapsed": true
   },
   "outputs": [],
   "source": []
  }
 ],
 "metadata": {
  "kernelspec": {
   "display_name": "Python 2",
   "language": "python",
   "name": "python2"
  },
  "language_info": {
   "codemirror_mode": {
    "name": "ipython",
    "version": 2
   },
   "file_extension": ".py",
   "mimetype": "text/x-python",
   "name": "python",
   "nbconvert_exporter": "python",
   "pygments_lexer": "ipython2",
   "version": "2.7.10"
  }
 },
 "nbformat": 4,
 "nbformat_minor": 0
}
