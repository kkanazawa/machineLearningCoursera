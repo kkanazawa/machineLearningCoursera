{
 "metadata": {
  "name": "",
  "signature": "sha256:b9813f469ad79aebdf303ac72a3da088c86ff2a9f20d37dd32c44dfafe50b65f"
 },
 "nbformat": 3,
 "nbformat_minor": 0,
 "worksheets": [
  {
   "cells": [
    {
     "cell_type": "markdown",
     "metadata": {},
     "source": [
      "# Loading data and visualization"
     ]
    },
    {
     "cell_type": "code",
     "collapsed": false,
     "input": [
      "ls"
     ],
     "language": "python",
     "metadata": {},
     "outputs": [
      {
       "output_type": "stream",
       "stream": "stdout",
       "text": [
        "ex8.ipynb    ex8.pdf      \u001b[34mmlclass-ex8\u001b[m\u001b[m/\r\n"
       ]
      }
     ],
     "prompt_number": 1
    },
    {
     "cell_type": "code",
     "collapsed": false,
     "input": [
      "cd mlclass-ex8/"
     ],
     "language": "python",
     "metadata": {},
     "outputs": [
      {
       "output_type": "stream",
       "stream": "stdout",
       "text": [
        "/Users/kanazawa/Dropbox/andrew/mlclass-ex8-007/mlclass-ex8\n"
       ]
      }
     ],
     "prompt_number": 2
    },
    {
     "cell_type": "code",
     "collapsed": false,
     "input": [
      "ls"
     ],
     "language": "python",
     "metadata": {},
     "outputs": [
      {
       "output_type": "stream",
       "stream": "stdout",
       "text": [
        "checkCostFunction.m         fmincg.m\r\n",
        "cofiCostFunc.m              loadMovieList.m\r\n",
        "computeNumericalGradient.m  movie_ids.txt\r\n",
        "estimateGaussian.m          multivariateGaussian.m\r\n",
        "ex8.m                       normalizeRatings.m\r\n",
        "ex8_cofi.m                  selectThreshold.m\r\n",
        "ex8_movieParams.mat         submit.m\r\n",
        "ex8_movies.mat              submitWeb.m\r\n",
        "ex8data1.mat                visualizeFit.m\r\n",
        "ex8data2.mat\r\n"
       ]
      }
     ],
     "prompt_number": 3
    },
    {
     "cell_type": "code",
     "collapsed": false,
     "input": [
      "from scipy.io import loadmat"
     ],
     "language": "python",
     "metadata": {},
     "outputs": [],
     "prompt_number": 4
    },
    {
     "cell_type": "code",
     "collapsed": false,
     "input": [
      "data1 = loadmat('ex8data1.mat')"
     ],
     "language": "python",
     "metadata": {},
     "outputs": [],
     "prompt_number": 6
    },
    {
     "cell_type": "code",
     "collapsed": false,
     "input": [
      "data1.keys()"
     ],
     "language": "python",
     "metadata": {},
     "outputs": [
      {
       "metadata": {},
       "output_type": "pyout",
       "prompt_number": 11,
       "text": [
        "['yval', '__header__', '__globals__', 'Xval', 'X', '__version__']"
       ]
      }
     ],
     "prompt_number": 11
    },
    {
     "cell_type": "code",
     "collapsed": false,
     "input": [
      "yval = data1['yval'].ravel()\n",
      "Xval = data1['Xval']\n",
      "X = data1['X']"
     ],
     "language": "python",
     "metadata": {},
     "outputs": [],
     "prompt_number": 163
    },
    {
     "cell_type": "code",
     "collapsed": false,
     "input": [
      "m,n = X.shape"
     ],
     "language": "python",
     "metadata": {},
     "outputs": [],
     "prompt_number": 14
    },
    {
     "cell_type": "code",
     "collapsed": false,
     "input": [
      "plot(X[:,0],X[:,1],'bx')\n",
      "axis([0,30,0,30])\n",
      "xlabel('Latency (ms)')\n",
      "ylabel('Throughput (mb/s)')"
     ],
     "language": "python",
     "metadata": {},
     "outputs": [
      {
       "metadata": {},
       "output_type": "pyout",
       "prompt_number": 22,
       "text": [
        "<matplotlib.text.Text at 0x1091360d0>"
       ]
      },
      {
       "metadata": {},
       "output_type": "display_data",
       "png": "[encoded data removed]",
       "text": [
        "<matplotlib.figure.Figure at 0x1090d0ed0>"
       ]
      }
     ],
     "prompt_number": 22
    },
    {
     "cell_type": "code",
     "collapsed": false,
     "input": [
      "hist(X[:,0],50)"
     ],
     "language": "python",
     "metadata": {},
     "outputs": [
      {
       "metadata": {},
       "output_type": "pyout",
       "prompt_number": 311,
       "text": [
        "(array([  1.,   0.,   0.,   0.,   0.,   0.,   0.,   0.,   0.,   0.,   0.,\n",
        "          0.,   0.,   0.,   0.,   0.,   2.,   1.,   1.,   4.,   9.,  15.,\n",
        "         32.,  38.,  48.,  51.,  33.,  26.,  20.,  12.,   9.,   1.,   0.,\n",
        "          0.,   0.,   0.,   1.,   0.,   0.,   1.,   0.,   0.,   0.,   0.,\n",
        "          0.,   1.,   0.,   0.,   0.,   1.]),\n",
        " array([  4.75261282,   5.12435792,   5.49610301,   5.86784811,\n",
        "          6.2395932 ,   6.61133829,   6.98308339,   7.35482848,\n",
        "          7.72657358,   8.09831867,   8.47006376,   8.84180886,\n",
        "          9.21355395,   9.58529905,   9.95704414,  10.32878923,\n",
        "         10.70053433,  11.07227942,  11.44402452,  11.81576961,\n",
        "         12.1875147 ,  12.5592598 ,  12.93100489,  13.30274999,\n",
        "         13.67449508,  14.04624018,  14.41798527,  14.78973036,\n",
        "         15.16147546,  15.53322055,  15.90496565,  16.27671074,\n",
        "         16.64845583,  17.02020093,  17.39194602,  17.76369112,\n",
        "         18.13543621,  18.5071813 ,  18.8789264 ,  19.25067149,\n",
        "         19.62241659,  19.99416168,  20.36590677,  20.73765187,\n",
        "         21.10939696,  21.48114206,  21.85288715,  22.22463225,\n",
        "         22.59637734,  22.96812243,  23.33986753]),\n",
        " <a list of 50 Patch objects>)"
       ]
      },
      {
       "metadata": {},
       "output_type": "display_data",
       "png": "[encoded data removed]",
       "text": [
        "<matplotlib.figure.Figure at 0x109d55a50>"
       ]
      }
     ],
     "prompt_number": 311
    },
    {
     "cell_type": "code",
     "collapsed": false,
     "input": [
      "hist(X[:,1],50)"
     ],
     "language": "python",
     "metadata": {},
     "outputs": [
      {
       "metadata": {},
       "output_type": "pyout",
       "prompt_number": 313,
       "text": [
        "(array([  1.,   0.,   0.,   0.,   0.,   0.,   0.,   0.,   0.,   0.,   0.,\n",
        "          0.,   1.,   0.,   0.,   1.,   0.,   0.,   0.,   1.,   1.,   3.,\n",
        "         12.,  12.,  25.,  50.,  52.,  42.,  50.,  25.,  19.,   7.,   2.,\n",
        "          1.,   1.,   0.,   0.,   0.,   0.,   0.,   0.,   0.,   0.,   0.,\n",
        "          0.,   0.,   0.,   0.,   0.,   1.]),\n",
        " array([  4.12623222,   4.53071572,   4.93519923,   5.33968273,\n",
        "          5.74416623,   6.14864973,   6.55313323,   6.95761673,\n",
        "          7.36210023,   7.76658373,   8.17106723,   8.57555073,\n",
        "          8.98003423,   9.38451773,   9.78900123,  10.19348473,\n",
        "         10.59796823,  11.00245173,  11.40693523,  11.81141873,\n",
        "         12.21590223,  12.62038573,  13.02486923,  13.42935274,\n",
        "         13.83383624,  14.23831974,  14.64280324,  15.04728674,\n",
        "         15.45177024,  15.85625374,  16.26073724,  16.66522074,\n",
        "         17.06970424,  17.47418774,  17.87867124,  18.28315474,\n",
        "         18.68763824,  19.09212174,  19.49660524,  19.90108874,\n",
        "         20.30557224,  20.71005574,  21.11453924,  21.51902274,\n",
        "         21.92350625,  22.32798975,  22.73247325,  23.13695675,\n",
        "         23.54144025,  23.94592375,  24.35040725]),\n",
        " <a list of 50 Patch objects>)"
       ]
      },
      {
       "metadata": {},
       "output_type": "display_data",
       "png": "[encoded data removed]",
       "text": [
        "<matplotlib.figure.Figure at 0x109d84990>"
       ]
      }
     ],
     "prompt_number": 313
    },
    {
     "cell_type": "markdown",
     "metadata": {},
     "source": [
      "# Gaussian distribution"
     ]
    },
    {
     "cell_type": "code",
     "collapsed": false,
     "input": [
      "u = arange(0,30,1)\n",
      "v = arange(0,30,1)\n",
      "nu,nv = u.size, v.size"
     ],
     "language": "python",
     "metadata": {},
     "outputs": [],
     "prompt_number": 83
    },
    {
     "cell_type": "code",
     "collapsed": false,
     "input": [
      "uu,vv = meshgrid(u,v)"
     ],
     "language": "python",
     "metadata": {},
     "outputs": [],
     "prompt_number": 57
    },
    {
     "cell_type": "code",
     "collapsed": false,
     "input": [
      "X_plt = column_stack((uu.ravel(),vv.ravel()))"
     ],
     "language": "python",
     "metadata": {},
     "outputs": [],
     "prompt_number": 58
    },
    {
     "cell_type": "code",
     "collapsed": false,
     "input": [
      "mu_X = mean(X,0)\n",
      "sig_X = std(X,0)"
     ],
     "language": "python",
     "metadata": {},
     "outputs": [],
     "prompt_number": 420
    },
    {
     "cell_type": "code",
     "collapsed": false,
     "input": [
      "def p(X):\n",
      "    x0 = X[:,0]\n",
      "    x1 = X[:,1]\n",
      "\n",
      "#    mu_X = mean(X,0)\n",
      "#    sig_X = std(X,0)\n",
      "\n",
      "    p = normpdf(x0,mu_X[0],sig_X[0]) * normpdf(x1,mu_X[1],sig_X[1])\n",
      "    return p"
     ],
     "language": "python",
     "metadata": {},
     "outputs": [],
     "prompt_number": 415
    },
    {
     "cell_type": "code",
     "collapsed": false,
     "input": [
      "prob = p(X_plt).reshape(nu,nv)"
     ],
     "language": "python",
     "metadata": {},
     "outputs": [],
     "prompt_number": 422
    },
    {
     "cell_type": "code",
     "collapsed": false,
     "input": [
      "plot(X[:,0],X[:,1],'bx')\n",
      "axis([0,30,0,30])\n",
      "xlabel('Latency (ms)')\n",
      "ylabel('Throughput (mb/s)')\n",
      "\n",
      "contour(u,v,prob,[eps_best])\n",
      "#contour(u,v,prob,[])"
     ],
     "language": "python",
     "metadata": {},
     "outputs": [
      {
       "metadata": {},
       "output_type": "pyout",
       "prompt_number": 431,
       "text": [
        "<matplotlib.contour.QuadContourSet instance at 0x10b1ec440>"
       ]
      },
      {
       "metadata": {},
       "output_type": "display_data",
       "png": "[encoded data removed]",
       "text": [
        "<matplotlib.figure.Figure at 0x10b07ccd0>"
       ]
      }
     ],
     "prompt_number": 431
    },
    {
     "cell_type": "code",
     "collapsed": false,
     "input": [
      "prob.shape"
     ],
     "language": "python",
     "metadata": {},
     "outputs": [
      {
       "metadata": {},
       "output_type": "pyout",
       "prompt_number": 403,
       "text": [
        "(30, 30)"
       ]
      }
     ],
     "prompt_number": 403
    },
    {
     "cell_type": "code",
     "collapsed": false,
     "input": [
      "eps_best, prob"
     ],
     "language": "python",
     "metadata": {},
     "outputs": [
      {
       "metadata": {},
       "output_type": "pyout",
       "prompt_number": 396,
       "text": [
        "(0.00015745207777512692,\n",
        " array([[ 0.00012836,  0.00015473,  0.00018405,  0.00021602,  0.00025019,\n",
        "          0.00028592,  0.00032241,  0.00035875,  0.00039388,  0.00042673,\n",
        "          0.00045618,  0.0004812 ,  0.00050086,  0.00051441,  0.00052132,\n",
        "          0.00052132,  0.00051441,  0.00050086,  0.0004812 ,  0.00045618,\n",
        "          0.00042673,  0.00039388,  0.00035875,  0.00032241,  0.00028592,\n",
        "          0.00025019,  0.00021602,  0.00018405,  0.00015473,  0.00012836],\n",
        "        [ 0.00015473,  0.00018652,  0.00022187,  0.00026041,  0.0003016 ,\n",
        "          0.00034466,  0.00038866,  0.00043246,  0.00047482,  0.00051441,\n",
        "          0.00054991,  0.00058007,  0.00060377,  0.00062011,  0.00062844,\n",
        "          0.00062844,  0.00062011,  0.00060377,  0.00058007,  0.00054991,\n",
        "          0.00051441,  0.00047482,  0.00043246,  0.00038866,  0.00034466,\n",
        "          0.0003016 ,  0.00026041,  0.00022187,  0.00018652,  0.00015473],\n",
        "        [ 0.00018405,  0.00022187,  0.00026391,  0.00030976,  0.00035875,\n",
        "          0.00040997,  0.00046231,  0.00051441,  0.00056479,  0.00061188,\n",
        "          0.00065411,  0.00068999,  0.00071818,  0.00073761,  0.00074752,\n",
        "          0.00074752,  0.00073761,  0.00071818,  0.00068999,  0.00065411,\n",
        "          0.00061188,  0.00056479,  0.00051441,  0.00046231,  0.00040997,\n",
        "          0.00035875,  0.00030976,  0.00026391,  0.00022187,  0.00018405],\n",
        "        [ 0.00021602,  0.00026041,  0.00030976,  0.00036357,  0.00042107,\n",
        "          0.0004812 ,  0.00054262,  0.00060377,  0.0006629 ,  0.00071818,\n",
        "          0.00076775,  0.00080985,  0.00084294,  0.00086575,  0.00087738,\n",
        "          0.00087738,  0.00086575,  0.00084294,  0.00080985,  0.00076775,\n",
        "          0.00071818,  0.0006629 ,  0.00060377,  0.00054262,  0.0004812 ,\n",
        "          0.00042107,  0.00036357,  0.00030976,  0.00026041,  0.00021602],\n",
        "        [ 0.00025019,  0.0003016 ,  0.00035875,  0.00042107,  0.00048766,\n",
        "          0.0005573 ,  0.00062844,  0.00069926,  0.00076775,  0.00083176,\n",
        "          0.00088917,  0.00093794,  0.00097626,  0.00100267,  0.00101614,\n",
        "          0.00101614,  0.00100267,  0.00097626,  0.00093794,  0.00088917,\n",
        "          0.00083176,  0.00076775,  0.00069926,  0.00062844,  0.0005573 ,\n",
        "          0.00048766,  0.00042107,  0.00035875,  0.0003016 ,  0.00025019],\n",
        "        [ 0.00028592,  0.00034466,  0.00040997,  0.0004812 ,  0.0005573 ,\n",
        "          0.00063688,  0.00071818,  0.00079911,  0.00087738,  0.00095054,\n",
        "          0.00101614,  0.00107187,  0.00111567,  0.00114585,  0.00116125,\n",
        "          0.00116125,  0.00114585,  0.00111567,  0.00107187,  0.00101614,\n",
        "          0.00095054,  0.00087738,  0.00079911,  0.00071818,  0.00063688,\n",
        "          0.0005573 ,  0.0004812 ,  0.00040997,  0.00034466,  0.00028592],\n",
        "        [ 0.00032241,  0.00038866,  0.00046231,  0.00054262,  0.00062844,\n",
        "          0.00071818,  0.00080985,  0.00090112,  0.00098938,  0.00107187,\n",
        "          0.00114585,  0.0012087 ,  0.00125808,  0.00129212,  0.00130948,\n",
        "          0.00130948,  0.00129212,  0.00125808,  0.0012087 ,  0.00114585,\n",
        "          0.00107187,  0.00098938,  0.00090112,  0.00080985,  0.00071818,\n",
        "          0.00062844,  0.00054262,  0.00046231,  0.00038866,  0.00032241],\n",
        "        [ 0.00035875,  0.00043246,  0.00051441,  0.00060377,  0.00069926,\n",
        "          0.00079911,  0.00090112,  0.00100267,  0.00110087,  0.00119267,\n",
        "          0.00127499,  0.00134491,  0.00139986,  0.00143773,  0.00145705,\n",
        "          0.00145705,  0.00143773,  0.00139986,  0.00134491,  0.00127499,\n",
        "          0.00119267,  0.00110087,  0.00100267,  0.00090112,  0.00079911,\n",
        "          0.00069926,  0.00060377,  0.00051441,  0.00043246,  0.00035875],\n",
        "        [ 0.00039388,  0.00047482,  0.00056479,  0.0006629 ,  0.00076775,\n",
        "          0.00087738,  0.00098938,  0.00110087,  0.0012087 ,  0.00130948,\n",
        "          0.00139986,  0.00147663,  0.00153696,  0.00157855,  0.00159976,\n",
        "          0.00159976,  0.00157855,  0.00153696,  0.00147663,  0.00139986,\n",
        "          0.00130948,  0.0012087 ,  0.00110087,  0.00098938,  0.00087738,\n",
        "          0.00076775,  0.0006629 ,  0.00056479,  0.00047482,  0.00039388],\n",
        "        [ 0.00042673,  0.00051441,  0.00061188,  0.00071818,  0.00083176,\n",
        "          0.00095054,  0.00107187,  0.00119267,  0.00130948,  0.00141867,\n",
        "          0.00151658,  0.00159976,  0.00166512,  0.00171017,  0.00173315,\n",
        "          0.00173315,  0.00171017,  0.00166512,  0.00159976,  0.00151658,\n",
        "          0.00141867,  0.00130948,  0.00119267,  0.00107187,  0.00095054,\n",
        "          0.00083176,  0.00071818,  0.00061188,  0.00051441,  0.00042673],\n",
        "        [ 0.00045618,  0.00054991,  0.00065411,  0.00076775,  0.00088917,\n",
        "          0.00101614,  0.00114585,  0.00127499,  0.00139986,  0.00151658,\n",
        "          0.00162126,  0.00171017,  0.00178005,  0.00182821,  0.00185277,\n",
        "          0.00185277,  0.00182821,  0.00178005,  0.00171017,  0.00162126,\n",
        "          0.00151658,  0.00139986,  0.00127499,  0.00114585,  0.00101614,\n",
        "          0.00088917,  0.00076775,  0.00065411,  0.00054991,  0.00045618],\n",
        "        [ 0.0004812 ,  0.00058007,  0.00068999,  0.00080985,  0.00093794,\n",
        "          0.00107187,  0.0012087 ,  0.00134491,  0.00147663,  0.00159976,\n",
        "          0.00171017,  0.00180396,  0.00187767,  0.00192847,  0.00195439,\n",
        "          0.00195439,  0.00192847,  0.00187767,  0.00180396,  0.00171017,\n",
        "          0.00159976,  0.00147663,  0.00134491,  0.0012087 ,  0.00107187,\n",
        "          0.00093794,  0.00080985,  0.00068999,  0.00058007,  0.0004812 ],\n",
        "        [ 0.00050086,  0.00060377,  0.00071818,  0.00084294,  0.00097626,\n",
        "          0.00111567,  0.00125808,  0.00139986,  0.00153696,  0.00166512,\n",
        "          0.00178005,  0.00187767,  0.00195439,  0.00200726,  0.00203424,\n",
        "          0.00203424,  0.00200726,  0.00195439,  0.00187767,  0.00178005,\n",
        "          0.00166512,  0.00153696,  0.00139986,  0.00125808,  0.00111567,\n",
        "          0.00097626,  0.00084294,  0.00071818,  0.00060377,  0.00050086],\n",
        "        [ 0.00051441,  0.00062011,  0.00073761,  0.00086575,  0.00100267,\n",
        "          0.00114585,  0.00129212,  0.00143773,  0.00157855,  0.00171017,\n",
        "          0.00182821,  0.00192847,  0.00200726,  0.00206157,  0.00208927,\n",
        "          0.00208927,  0.00206157,  0.00200726,  0.00192847,  0.00182821,\n",
        "          0.00171017,  0.00157855,  0.00143773,  0.00129212,  0.00114585,\n",
        "          0.00100267,  0.00086575,  0.00073761,  0.00062011,  0.00051441],\n",
        "        [ 0.00052132,  0.00062844,  0.00074752,  0.00087738,  0.00101614,\n",
        "          0.00116125,  0.00130948,  0.00145705,  0.00159976,  0.00173315,\n",
        "          0.00185277,  0.00195439,  0.00203424,  0.00208927,  0.00211735,\n",
        "          0.00211735,  0.00208927,  0.00203424,  0.00195439,  0.00185277,\n",
        "          0.00173315,  0.00159976,  0.00145705,  0.00130948,  0.00116125,\n",
        "          0.00101614,  0.00087738,  0.00074752,  0.00062844,  0.00052132],\n",
        "        [ 0.00052132,  0.00062844,  0.00074752,  0.00087738,  0.00101614,\n",
        "          0.00116125,  0.00130948,  0.00145705,  0.00159976,  0.00173315,\n",
        "          0.00185277,  0.00195439,  0.00203424,  0.00208927,  0.00211735,\n",
        "          0.00211735,  0.00208927,  0.00203424,  0.00195439,  0.00185277,\n",
        "          0.00173315,  0.00159976,  0.00145705,  0.00130948,  0.00116125,\n",
        "          0.00101614,  0.00087738,  0.00074752,  0.00062844,  0.00052132],\n",
        "        [ 0.00051441,  0.00062011,  0.00073761,  0.00086575,  0.00100267,\n",
        "          0.00114585,  0.00129212,  0.00143773,  0.00157855,  0.00171017,\n",
        "          0.00182821,  0.00192847,  0.00200726,  0.00206157,  0.00208927,\n",
        "          0.00208927,  0.00206157,  0.00200726,  0.00192847,  0.00182821,\n",
        "          0.00171017,  0.00157855,  0.00143773,  0.00129212,  0.00114585,\n",
        "          0.00100267,  0.00086575,  0.00073761,  0.00062011,  0.00051441],\n",
        "        [ 0.00050086,  0.00060377,  0.00071818,  0.00084294,  0.00097626,\n",
        "          0.00111567,  0.00125808,  0.00139986,  0.00153696,  0.00166512,\n",
        "          0.00178005,  0.00187767,  0.00195439,  0.00200726,  0.00203424,\n",
        "          0.00203424,  0.00200726,  0.00195439,  0.00187767,  0.00178005,\n",
        "          0.00166512,  0.00153696,  0.00139986,  0.00125808,  0.00111567,\n",
        "          0.00097626,  0.00084294,  0.00071818,  0.00060377,  0.00050086],\n",
        "        [ 0.0004812 ,  0.00058007,  0.00068999,  0.00080985,  0.00093794,\n",
        "          0.00107187,  0.0012087 ,  0.00134491,  0.00147663,  0.00159976,\n",
        "          0.00171017,  0.00180396,  0.00187767,  0.00192847,  0.00195439,\n",
        "          0.00195439,  0.00192847,  0.00187767,  0.00180396,  0.00171017,\n",
        "          0.00159976,  0.00147663,  0.00134491,  0.0012087 ,  0.00107187,\n",
        "          0.00093794,  0.00080985,  0.00068999,  0.00058007,  0.0004812 ],\n",
        "        [ 0.00045618,  0.00054991,  0.00065411,  0.00076775,  0.00088917,\n",
        "          0.00101614,  0.00114585,  0.00127499,  0.00139986,  0.00151658,\n",
        "          0.00162126,  0.00171017,  0.00178005,  0.00182821,  0.00185277,\n",
        "          0.00185277,  0.00182821,  0.00178005,  0.00171017,  0.00162126,\n",
        "          0.00151658,  0.00139986,  0.00127499,  0.00114585,  0.00101614,\n",
        "          0.00088917,  0.00076775,  0.00065411,  0.00054991,  0.00045618],\n",
        "        [ 0.00042673,  0.00051441,  0.00061188,  0.00071818,  0.00083176,\n",
        "          0.00095054,  0.00107187,  0.00119267,  0.00130948,  0.00141867,\n",
        "          0.00151658,  0.00159976,  0.00166512,  0.00171017,  0.00173315,\n",
        "          0.00173315,  0.00171017,  0.00166512,  0.00159976,  0.00151658,\n",
        "          0.00141867,  0.00130948,  0.00119267,  0.00107187,  0.00095054,\n",
        "          0.00083176,  0.00071818,  0.00061188,  0.00051441,  0.00042673],\n",
        "        [ 0.00039388,  0.00047482,  0.00056479,  0.0006629 ,  0.00076775,\n",
        "          0.00087738,  0.00098938,  0.00110087,  0.0012087 ,  0.00130948,\n",
        "          0.00139986,  0.00147663,  0.00153696,  0.00157855,  0.00159976,\n",
        "          0.00159976,  0.00157855,  0.00153696,  0.00147663,  0.00139986,\n",
        "          0.00130948,  0.0012087 ,  0.00110087,  0.00098938,  0.00087738,\n",
        "          0.00076775,  0.0006629 ,  0.00056479,  0.00047482,  0.00039388],\n",
        "        [ 0.00035875,  0.00043246,  0.00051441,  0.00060377,  0.00069926,\n",
        "          0.00079911,  0.00090112,  0.00100267,  0.00110087,  0.00119267,\n",
        "          0.00127499,  0.00134491,  0.00139986,  0.00143773,  0.00145705,\n",
        "          0.00145705,  0.00143773,  0.00139986,  0.00134491,  0.00127499,\n",
        "          0.00119267,  0.00110087,  0.00100267,  0.00090112,  0.00079911,\n",
        "          0.00069926,  0.00060377,  0.00051441,  0.00043246,  0.00035875],\n",
        "        [ 0.00032241,  0.00038866,  0.00046231,  0.00054262,  0.00062844,\n",
        "          0.00071818,  0.00080985,  0.00090112,  0.00098938,  0.00107187,\n",
        "          0.00114585,  0.0012087 ,  0.00125808,  0.00129212,  0.00130948,\n",
        "          0.00130948,  0.00129212,  0.00125808,  0.0012087 ,  0.00114585,\n",
        "          0.00107187,  0.00098938,  0.00090112,  0.00080985,  0.00071818,\n",
        "          0.00062844,  0.00054262,  0.00046231,  0.00038866,  0.00032241],\n",
        "        [ 0.00028592,  0.00034466,  0.00040997,  0.0004812 ,  0.0005573 ,\n",
        "          0.00063688,  0.00071818,  0.00079911,  0.00087738,  0.00095054,\n",
        "          0.00101614,  0.00107187,  0.00111567,  0.00114585,  0.00116125,\n",
        "          0.00116125,  0.00114585,  0.00111567,  0.00107187,  0.00101614,\n",
        "          0.00095054,  0.00087738,  0.00079911,  0.00071818,  0.00063688,\n",
        "          0.0005573 ,  0.0004812 ,  0.00040997,  0.00034466,  0.00028592],\n",
        "        [ 0.00025019,  0.0003016 ,  0.00035875,  0.00042107,  0.00048766,\n",
        "          0.0005573 ,  0.00062844,  0.00069926,  0.00076775,  0.00083176,\n",
        "          0.00088917,  0.00093794,  0.00097626,  0.00100267,  0.00101614,\n",
        "          0.00101614,  0.00100267,  0.00097626,  0.00093794,  0.00088917,\n",
        "          0.00083176,  0.00076775,  0.00069926,  0.00062844,  0.0005573 ,\n",
        "          0.00048766,  0.00042107,  0.00035875,  0.0003016 ,  0.00025019],\n",
        "        [ 0.00021602,  0.00026041,  0.00030976,  0.00036357,  0.00042107,\n",
        "          0.0004812 ,  0.00054262,  0.00060377,  0.0006629 ,  0.00071818,\n",
        "          0.00076775,  0.00080985,  0.00084294,  0.00086575,  0.00087738,\n",
        "          0.00087738,  0.00086575,  0.00084294,  0.00080985,  0.00076775,\n",
        "          0.00071818,  0.0006629 ,  0.00060377,  0.00054262,  0.0004812 ,\n",
        "          0.00042107,  0.00036357,  0.00030976,  0.00026041,  0.00021602],\n",
        "        [ 0.00018405,  0.00022187,  0.00026391,  0.00030976,  0.00035875,\n",
        "          0.00040997,  0.00046231,  0.00051441,  0.00056479,  0.00061188,\n",
        "          0.00065411,  0.00068999,  0.00071818,  0.00073761,  0.00074752,\n",
        "          0.00074752,  0.00073761,  0.00071818,  0.00068999,  0.00065411,\n",
        "          0.00061188,  0.00056479,  0.00051441,  0.00046231,  0.00040997,\n",
        "          0.00035875,  0.00030976,  0.00026391,  0.00022187,  0.00018405],\n",
        "        [ 0.00015473,  0.00018652,  0.00022187,  0.00026041,  0.0003016 ,\n",
        "          0.00034466,  0.00038866,  0.00043246,  0.00047482,  0.00051441,\n",
        "          0.00054991,  0.00058007,  0.00060377,  0.00062011,  0.00062844,\n",
        "          0.00062844,  0.00062011,  0.00060377,  0.00058007,  0.00054991,\n",
        "          0.00051441,  0.00047482,  0.00043246,  0.00038866,  0.00034466,\n",
        "          0.0003016 ,  0.00026041,  0.00022187,  0.00018652,  0.00015473],\n",
        "        [ 0.00012836,  0.00015473,  0.00018405,  0.00021602,  0.00025019,\n",
        "          0.00028592,  0.00032241,  0.00035875,  0.00039388,  0.00042673,\n",
        "          0.00045618,  0.0004812 ,  0.00050086,  0.00051441,  0.00052132,\n",
        "          0.00052132,  0.00051441,  0.00050086,  0.0004812 ,  0.00045618,\n",
        "          0.00042673,  0.00039388,  0.00035875,  0.00032241,  0.00028592,\n",
        "          0.00025019,  0.00021602,  0.00018405,  0.00015473,  0.00012836]]))"
       ]
      }
     ],
     "prompt_number": 396
    },
    {
     "cell_type": "code",
     "collapsed": false,
     "input": [
      "pval"
     ],
     "language": "python",
     "metadata": {},
     "outputs": [
      {
       "metadata": {},
       "output_type": "pyout",
       "prompt_number": 397,
       "text": [
        "array([  4.20183337e-02,   7.44570332e-02,   3.61825421e-02,\n",
        "         5.40322572e-02,   6.62920999e-02,   4.31175076e-02,\n",
        "         5.61529703e-02,   7.47731221e-02,   2.78271625e-02,\n",
        "         6.79786445e-02,   7.12502637e-02,   4.29789131e-02,\n",
        "         4.71919049e-02,   1.71092429e-02,   4.57252687e-02,\n",
        "         4.16171371e-02,   4.66772981e-02,   5.38056308e-02,\n",
        "         6.59834232e-02,   4.33028879e-02,   7.66730116e-02,\n",
        "         3.40850728e-02,   7.38004370e-02,   6.33635916e-02,\n",
        "         6.80167267e-02,   7.48672814e-02,   4.32767473e-02,\n",
        "         6.04262662e-02,   4.17267287e-02,   6.64492902e-02,\n",
        "         7.25627695e-02,   5.57137880e-02,   6.76294581e-02,\n",
        "         7.71626521e-02,   6.38286197e-02,   6.92206477e-02,\n",
        "         5.68274190e-02,   2.46124888e-02,   4.77831221e-02,\n",
        "         7.65964847e-02,   5.27360859e-02,   3.73691080e-02,\n",
        "         5.60442512e-02,   7.42103575e-02,   7.71561057e-02,\n",
        "         6.38679489e-02,   3.13223369e-02,   7.45194169e-02,\n",
        "         7.11609980e-02,   5.47177552e-02,   4.50820789e-02,\n",
        "         7.75531803e-02,   7.17022290e-02,   6.75838306e-02,\n",
        "         4.10992092e-02,   5.99613711e-02,   5.99852758e-02,\n",
        "         5.94200920e-02,   4.55973632e-02,   6.08910972e-02,\n",
        "         7.68786116e-02,   5.25723136e-02,   7.38421495e-02,\n",
        "         4.15544256e-02,   5.73885279e-02,   3.83796359e-02,\n",
        "         6.45499602e-02,   7.68616758e-02,   2.93322478e-02,\n",
        "         7.01380001e-02,   4.64749721e-02,   7.59073596e-02,\n",
        "         3.36280714e-02,   7.70275440e-02,   6.54144535e-02,\n",
        "         7.26167132e-02,   4.23162857e-02,   5.06509305e-02,\n",
        "         1.65107099e-02,   5.20241338e-02,   3.26064762e-02,\n",
        "         6.43110574e-02,   6.18978338e-02,   5.99185075e-02,\n",
        "         6.92523251e-02,   6.28792408e-02,   4.32864334e-02,\n",
        "         6.47791432e-02,   6.69931741e-02,   7.83162996e-02,\n",
        "         6.13736053e-02,   4.78538551e-02,   7.00965597e-02,\n",
        "         4.44607804e-02,   5.08265793e-02,   3.84173490e-02,\n",
        "         6.42054170e-02,   6.91813916e-02,   6.72147113e-02,\n",
        "         6.39974749e-02,   6.43779238e-02,   6.70710750e-02,\n",
        "         6.70675980e-02,   7.22821450e-02,   6.36008897e-02,\n",
        "         5.00664309e-02,   3.32067464e-02,   7.85627376e-02,\n",
        "         3.60550041e-02,   7.48530613e-02,   7.10107933e-02,\n",
        "         4.78862876e-02,   2.69901222e-02,   6.02567719e-02,\n",
        "         2.80131796e-02,   4.38937901e-02,   6.66328436e-02,\n",
        "         6.91924243e-02,   5.98033231e-02,   7.52132176e-02,\n",
        "         6.43965454e-02,   4.00141127e-02,   7.82183701e-02,\n",
        "         6.49018096e-02,   6.92458475e-02,   6.20422330e-02,\n",
        "         1.88226889e-02,   8.71473584e-03,   6.97368362e-02,\n",
        "         7.17217169e-02,   7.71310595e-02,   5.81577081e-02,\n",
        "         3.73680137e-02,   6.43101726e-02,   7.39657632e-02,\n",
        "         5.52295425e-02,   1.35830927e-02,   4.84563506e-02,\n",
        "         1.80024372e-02,   6.39688079e-02,   5.12221480e-02,\n",
        "         6.58162010e-02,   7.04462947e-02,   7.02364749e-02,\n",
        "         7.00200088e-02,   7.28982405e-02,   5.30596938e-02,\n",
        "         6.24262837e-02,   3.73086927e-02,   7.40062030e-02,\n",
        "         4.32392668e-02,   7.70160833e-02,   5.00355274e-02,\n",
        "         4.21211418e-02,   6.81759085e-02,   3.95855923e-02,\n",
        "         7.74936721e-02,   7.33980797e-02,   6.87196862e-02,\n",
        "         7.43348085e-02,   7.17974900e-02,   3.52376559e-02,\n",
        "         2.59302927e-02,   4.95043000e-02,   6.01294108e-02,\n",
        "         6.41362875e-02,   5.39482165e-02,   7.46511067e-02,\n",
        "         9.01513921e-03,   4.63262919e-02,   5.65949198e-02,\n",
        "         4.36506761e-02,   4.78303736e-02,   5.49201812e-02,\n",
        "         2.29190466e-02,   7.15154856e-02,   2.53403539e-02,\n",
        "         5.77821883e-02,   6.72958587e-02,   7.05886117e-02,\n",
        "         7.84648023e-02,   3.11237758e-02,   2.59722367e-02,\n",
        "         6.16742468e-02,   7.16325440e-02,   5.98338613e-02,\n",
        "         6.43514545e-02,   5.71470147e-02,   3.90485422e-02,\n",
        "         7.30916125e-02,   3.43187635e-02,   7.47266496e-02,\n",
        "         2.85391072e-03,   6.74906673e-02,   6.29193051e-02,\n",
        "         7.46668249e-02,   5.57027587e-02,   7.52557602e-02,\n",
        "         5.96092722e-02,   3.25682521e-02,   5.39703624e-02,\n",
        "         3.10305232e-02,   6.78232101e-02,   3.60394496e-02,\n",
        "         7.59246499e-02,   4.43885452e-02,   4.09311275e-02,\n",
        "         7.18890967e-02,   6.63973553e-02,   7.30475318e-02,\n",
        "         7.27071619e-02,   4.56452363e-02,   6.65832448e-02,\n",
        "         3.81882783e-02,   6.82629895e-02,   3.33972095e-02,\n",
        "         2.44320626e-02,   7.40200860e-02,   4.21384369e-02,\n",
        "         4.61563282e-02,   7.21052308e-02,   7.86473128e-02,\n",
        "         4.87355559e-02,   7.41936400e-02,   2.56738462e-02,\n",
        "         6.63261526e-02,   7.19482296e-02,   6.59790020e-02,\n",
        "         4.65792444e-02,   7.42763775e-02,   5.04381685e-02,\n",
        "         6.34716093e-02,   6.88094501e-02,   4.97785734e-02,\n",
        "         5.15037867e-02,   1.14799962e-02,   2.27524644e-02,\n",
        "         7.51367567e-02,   4.63840795e-02,   4.40844882e-02,\n",
        "         7.52099938e-02,   2.11863568e-02,   2.99262622e-02,\n",
        "         7.18319804e-02,   6.91806999e-02,   2.40562352e-02,\n",
        "         4.23341002e-04,   2.73752318e-02,   2.81602283e-02,\n",
        "         6.90451060e-02,   5.50719563e-02,   6.40954753e-02,\n",
        "         2.78946529e-02,   6.86525614e-02,   2.83270011e-02,\n",
        "         7.07511274e-02,   2.81797798e-02,   4.32857535e-02,\n",
        "         6.43742889e-02,   4.92058450e-02,   7.50178143e-02,\n",
        "         1.41290066e-02,   6.10393133e-02,   5.93501442e-02,\n",
        "         7.71194747e-02,   6.53861002e-02,   5.90864304e-02,\n",
        "         5.42255697e-02,   4.80408069e-02,   7.50625492e-02,\n",
        "         2.64514695e-02,   4.82389415e-02,   7.11415498e-02,\n",
        "         7.15773977e-02,   3.99672803e-02,   2.00804621e-02,\n",
        "         5.16177363e-02,   5.98454918e-02,   6.33006859e-02,\n",
        "         5.72536021e-02,   6.39195033e-02,   3.75780752e-02,\n",
        "         5.66085882e-02,   2.11125252e-02,   4.26255797e-02,\n",
        "         3.51709773e-02,   6.06931622e-02,   3.32003381e-02,\n",
        "         7.25089346e-02,   7.12411543e-02,   7.37030056e-02,\n",
        "         7.34956263e-02,   2.21781047e-02,   3.81207486e-02,\n",
        "         6.27673556e-02,   4.99392262e-02,   4.83721609e-02,\n",
        "         5.85888441e-02,   5.75475554e-02,   5.89266658e-02,\n",
        "         9.10614084e-07,   1.19679205e-04,   1.80052135e-30,\n",
        "         9.04652495e-26,   3.28970896e-05,   4.40943642e-11,\n",
        "         1.45296391e-04])"
       ]
      }
     ],
     "prompt_number": 397
    },
    {
     "cell_type": "code",
     "collapsed": false,
     "input": [
      "pval = p(Xval)"
     ],
     "language": "python",
     "metadata": {},
     "outputs": [],
     "prompt_number": 139
    },
    {
     "cell_type": "code",
     "collapsed": false,
     "input": [
      "def F1(eps,yval,pval):\n",
      "    y_pre = (pval <= eps) # prediction for anomaly\n",
      "\n",
      "    tp = sum((y_pre==yval) & (y_pre==1)) # true positive\n",
      "    fp = sum((y_pre!=yval) & (y_pre==1)) # false positive\n",
      "    fn = sum((y_pre!=yval) & (y_pre==0)) # false negative\n",
      "\n",
      "    tn = sum((y_pre==yval) & (y_pre==0)) # false negative\n",
      "\n",
      "\n",
      "    tp = float(tp)\n",
      "    fp = float(fp)\n",
      "    fn = float(fn)\n",
      "\n",
      "    #print tp, fp, fn, tn\n",
      "    \n",
      "    prec = tp/(tp+fp)\n",
      "    rec = tp/(tp+fn)\n",
      "\n",
      "    F1 = 2.*prec*rec/(prec+rec)\n",
      "    return F1"
     ],
     "language": "python",
     "metadata": {},
     "outputs": [],
     "prompt_number": 537
    },
    {
     "cell_type": "code",
     "collapsed": false,
     "input": [
      "F1_score = 0.\n",
      "for eps in linspace(pval.min(),pval.max(),10000):\n",
      "    F1_tmp = F1(eps,yval,pval)\n",
      "    if F1_tmp > F1_score:\n",
      "        F1_score = F1_tmp\n",
      "        eps_best = eps\n",
      "print eps_best, F1_score"
     ],
     "language": "python",
     "metadata": {},
     "outputs": [
      {
       "output_type": "stream",
       "stream": "stdout",
       "text": [
        "0.0786473128487 0.181818181818\n"
       ]
      }
     ],
     "prompt_number": 538
    },
    {
     "cell_type": "code",
     "collapsed": false,
     "input": [
      "#F1(eps_best,yval,pval)\n",
      "F1(eps_best,yval,pval)"
     ],
     "language": "python",
     "metadata": {},
     "outputs": [
      {
       "metadata": {},
       "output_type": "pyout",
       "prompt_number": 539,
       "text": [
        "0.18181818181818182"
       ]
      }
     ],
     "prompt_number": 539
    },
    {
     "cell_type": "code",
     "collapsed": false,
     "input": [
      "plot(Xval[:,0],Xval[:,1],'bo')"
     ],
     "language": "python",
     "metadata": {},
     "outputs": [
      {
       "metadata": {},
       "output_type": "pyout",
       "prompt_number": 339,
       "text": [
        "[<matplotlib.lines.Line2D at 0x10a44d550>]"
       ]
      },
      {
       "metadata": {},
       "output_type": "display_data",
       "png": "[encoded data removed]",
       "text": [
        "<matplotlib.figure.Figure at 0x10a296c50>"
       ]
      }
     ],
     "prompt_number": 339
    },
    {
     "cell_type": "code",
     "collapsed": false,
     "input": [
      "eps_best"
     ],
     "language": "python",
     "metadata": {},
     "outputs": [
      {
       "metadata": {},
       "output_type": "pyout",
       "prompt_number": 389,
       "text": [
        "0.00015745207777512692"
       ]
      }
     ],
     "prompt_number": 389
    },
    {
     "cell_type": "code",
     "collapsed": false,
     "input": [
      "aval = (yval==1)\n",
      "nval = (yval==0)"
     ],
     "language": "python",
     "metadata": {},
     "outputs": [],
     "prompt_number": 374
    },
    {
     "cell_type": "code",
     "collapsed": false,
     "input": [
      "plot(Xval[aval,0],Xval[aval,1],'rx')\n",
      "plot(Xval[nval,0],Xval[nval,1],'bo')"
     ],
     "language": "python",
     "metadata": {},
     "outputs": [
      {
       "metadata": {},
       "output_type": "pyout",
       "prompt_number": 377,
       "text": [
        "[<matplotlib.lines.Line2D at 0x10a739890>]"
       ]
      },
      {
       "metadata": {},
       "output_type": "display_data",
       "png": "[encoded data removed]",
       "text": [
        "<matplotlib.figure.Figure at 0x10a589d90>"
       ]
      }
     ],
     "prompt_number": 377
    },
    {
     "cell_type": "code",
     "collapsed": false,
     "input": [
      "plot(Xval[:,0],Xval[:,1],'bx')\n",
      "axis([0,30,0,30])\n",
      "xlabel('Latency (ms)')\n",
      "ylabel('Throughput (mb/s)')\n",
      "\n",
      "contour(u,v,prob,[eps_best])"
     ],
     "language": "python",
     "metadata": {},
     "outputs": [
      {
       "metadata": {},
       "output_type": "pyout",
       "prompt_number": 432,
       "text": [
        "<matplotlib.contour.QuadContourSet instance at 0x10b28d1b8>"
       ]
      },
      {
       "metadata": {},
       "output_type": "display_data",
       "png": "[encoded data removed]",
       "text": [
        "<matplotlib.figure.Figure at 0x10b077890>"
       ]
      }
     ],
     "prompt_number": 432
    },
    {
     "cell_type": "code",
     "collapsed": false,
     "input": [
      "a(pval <= eps_best)"
     ],
     "language": "python",
     "metadata": {},
     "outputs": [
      {
       "metadata": {},
       "output_type": "pyout",
       "prompt_number": 433,
       "text": [
        "array([False, False, False, False, False, False, False, False, False,\n",
        "       False, False, False, False, False, False, False, False, False,\n",
        "       False, False, False, False, False, False, False, False, False,\n",
        "       False, False, False, False, False, False, False, False, False,\n",
        "       False, False, False, False, False, False, False, False, False,\n",
        "       False, False, False, False, False, False, False, False, False,\n",
        "       False, False, False, False, False, False, False, False, False,\n",
        "       False, False, False, False, False, False, False, False, False,\n",
        "       False, False, False, False, False, False, False, False, False,\n",
        "       False, False, False, False, False, False, False, False, False,\n",
        "       False, False, False, False, False, False, False, False, False,\n",
        "       False, False, False, False, False, False, False, False, False,\n",
        "       False, False, False, False, False, False, False, False, False,\n",
        "       False, False, False, False, False, False, False, False, False,\n",
        "       False, False, False, False, False, False, False, False, False,\n",
        "       False, False, False, False, False, False, False, False, False,\n",
        "       False, False, False, False, False, False, False, False, False,\n",
        "       False, False, False, False, False, False, False, False, False,\n",
        "       False, False, False, False, False, False, False, False, False,\n",
        "       False, False, False, False, False, False, False, False, False,\n",
        "       False, False, False, False, False, False, False, False, False,\n",
        "       False, False, False, False, False, False, False, False, False,\n",
        "       False, False, False, False, False, False, False, False, False,\n",
        "       False, False, False, False, False, False, False, False, False,\n",
        "       False, False, False, False, False, False, False, False, False,\n",
        "       False, False, False, False, False, False, False, False, False,\n",
        "       False, False, False, False, False, False, False, False, False,\n",
        "       False, False, False, False, False, False, False, False, False,\n",
        "       False, False, False, False, False, False, False, False, False,\n",
        "       False, False, False, False, False, False, False, False, False,\n",
        "       False, False, False, False, False, False, False, False, False,\n",
        "       False, False, False, False, False, False, False, False, False,\n",
        "       False, False, False, False, False, False, False, False, False,\n",
        "       False, False, False,  True,  True,  True,  True,  True,  True,  True], dtype=bool)"
       ]
      }
     ],
     "prompt_number": 433
    },
    {
     "cell_type": "markdown",
     "metadata": {},
     "source": [
      "# High dimensional dataset"
     ]
    },
    {
     "cell_type": "code",
     "collapsed": false,
     "input": [
      "data2 = loadmat('ex8data2.mat')\n",
      "data2.keys()"
     ],
     "language": "python",
     "metadata": {},
     "outputs": [
      {
       "metadata": {},
       "output_type": "pyout",
       "prompt_number": 448,
       "text": [
        "['yval', '__header__', '__globals__', 'Xval', 'X', '__version__']"
       ]
      }
     ],
     "prompt_number": 448
    },
    {
     "cell_type": "code",
     "collapsed": false,
     "input": [
      "yval = data2['yval']"
     ],
     "language": "python",
     "metadata": {},
     "outputs": [],
     "prompt_number": 450
    },
    {
     "cell_type": "code",
     "collapsed": false,
     "input": [
      "Xval = data2['Xval']"
     ],
     "language": "python",
     "metadata": {},
     "outputs": [],
     "prompt_number": 452
    },
    {
     "cell_type": "code",
     "collapsed": false,
     "input": [
      "X = data2['X']"
     ],
     "language": "python",
     "metadata": {},
     "outputs": [],
     "prompt_number": 453
    },
    {
     "cell_type": "code",
     "collapsed": false,
     "input": [
      "m,n = X.shape"
     ],
     "language": "python",
     "metadata": {},
     "outputs": [],
     "prompt_number": 454
    },
    {
     "cell_type": "code",
     "collapsed": false,
     "input": [
      "mu = mean(X,0)\n",
      "sig = std(X,0)"
     ],
     "language": "python",
     "metadata": {},
     "outputs": [],
     "prompt_number": 480
    },
    {
     "cell_type": "code",
     "collapsed": false,
     "input": [
      "def p11(X):\n",
      "    p11 = (2.*pi)**(-n/2.) / det(diag(sig)) * exp( -0.5 * sum((X-mu)**2./(sig**2.),1) )\n",
      "    return p11"
     ],
     "language": "python",
     "metadata": {},
     "outputs": [],
     "prompt_number": 525
    },
    {
     "cell_type": "code",
     "collapsed": false,
     "input": [
      "eps2 = 1.37e-18\n",
      "sum(p11(X) < eps2), sum(p11(Xval) < eps2)"
     ],
     "language": "python",
     "metadata": {},
     "outputs": [
      {
       "metadata": {},
       "output_type": "pyout",
       "prompt_number": 567,
       "text": [
        "(117, 16)"
       ]
      }
     ],
     "prompt_number": 567
    },
    {
     "cell_type": "code",
     "collapsed": false,
     "input": [],
     "language": "python",
     "metadata": {},
     "outputs": []
    }
   ],
   "metadata": {}
  }
 ]
}